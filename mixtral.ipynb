{
  "cells": [
    {
      "cell_type": "markdown",
      "metadata": {
        "id": "view-in-github",
        "colab_type": "text"
      },
      "source": [
        "<a href=\"https://colab.research.google.com/github/zouidine/AMT_LLMs/blob/main/mixtral.ipynb\" target=\"_parent\"><img src=\"https://colab.research.google.com/assets/colab-badge.svg\" alt=\"Open In Colab\"/></a>"
      ]
    },
    {
      "cell_type": "code",
      "execution_count": 1,
      "metadata": {
        "colab": {
          "base_uri": "https://localhost:8080/"
        },
        "id": "PK2fdQ4h7Cqj",
        "outputId": "7ddcd82a-3815-46fb-9afb-592f8906ff18"
      },
      "outputs": [
        {
          "output_type": "stream",
          "name": "stdout",
          "text": [
            "Cloning into 'AMT_LLMs'...\n",
            "remote: Enumerating objects: 25, done.\u001b[K\n",
            "remote: Counting objects: 100% (25/25), done.\u001b[K\n",
            "remote: Compressing objects: 100% (21/21), done.\u001b[K\n",
            "remote: Total 25 (delta 4), reused 0 (delta 0), pack-reused 0\u001b[K\n",
            "Receiving objects: 100% (25/25), 71.51 KiB | 1.46 MiB/s, done.\n",
            "Resolving deltas: 100% (4/4), done.\n"
          ]
        }
      ],
      "source": [
        "!git clone https://github.com/zouidine/AMT_LLMs.git"
      ]
    },
    {
      "cell_type": "code",
      "execution_count": 2,
      "metadata": {
        "colab": {
          "base_uri": "https://localhost:8080/"
        },
        "id": "aDVICE6n7LOt",
        "outputId": "d35f30ab-6f7d-430d-ad61-eb5886c352df"
      },
      "outputs": [
        {
          "output_type": "stream",
          "name": "stdout",
          "text": [
            "Collecting langchain_groq\n",
            "  Downloading langchain_groq-0.1.6-py3-none-any.whl (14 kB)\n",
            "Collecting groq<1,>=0.4.1 (from langchain_groq)\n",
            "  Downloading groq-0.9.0-py3-none-any.whl (103 kB)\n",
            "\u001b[2K     \u001b[90m━━━━━━━━━━━━━━━━━━━━━━━━━━━━━━━━━━━━━━━━\u001b[0m \u001b[32m103.5/103.5 kB\u001b[0m \u001b[31m1.2 MB/s\u001b[0m eta \u001b[36m0:00:00\u001b[0m\n",
            "\u001b[?25hCollecting langchain-core<0.3,>=0.2.2 (from langchain_groq)\n",
            "  Downloading langchain_core-0.2.19-py3-none-any.whl (366 kB)\n",
            "\u001b[2K     \u001b[90m━━━━━━━━━━━━━━━━━━━━━━━━━━━━━━━━━━━━━━━━\u001b[0m \u001b[32m366.5/366.5 kB\u001b[0m \u001b[31m5.3 MB/s\u001b[0m eta \u001b[36m0:00:00\u001b[0m\n",
            "\u001b[?25hRequirement already satisfied: anyio<5,>=3.5.0 in /usr/local/lib/python3.10/dist-packages (from groq<1,>=0.4.1->langchain_groq) (3.7.1)\n",
            "Requirement already satisfied: distro<2,>=1.7.0 in /usr/lib/python3/dist-packages (from groq<1,>=0.4.1->langchain_groq) (1.7.0)\n",
            "Collecting httpx<1,>=0.23.0 (from groq<1,>=0.4.1->langchain_groq)\n",
            "  Downloading httpx-0.27.0-py3-none-any.whl (75 kB)\n",
            "\u001b[2K     \u001b[90m━━━━━━━━━━━━━━━━━━━━━━━━━━━━━━━━━━━━━━━━\u001b[0m \u001b[32m75.6/75.6 kB\u001b[0m \u001b[31m5.8 MB/s\u001b[0m eta \u001b[36m0:00:00\u001b[0m\n",
            "\u001b[?25hRequirement already satisfied: pydantic<3,>=1.9.0 in /usr/local/lib/python3.10/dist-packages (from groq<1,>=0.4.1->langchain_groq) (2.8.2)\n",
            "Requirement already satisfied: sniffio in /usr/local/lib/python3.10/dist-packages (from groq<1,>=0.4.1->langchain_groq) (1.3.1)\n",
            "Requirement already satisfied: typing-extensions<5,>=4.7 in /usr/local/lib/python3.10/dist-packages (from groq<1,>=0.4.1->langchain_groq) (4.12.2)\n",
            "Requirement already satisfied: PyYAML>=5.3 in /usr/local/lib/python3.10/dist-packages (from langchain-core<0.3,>=0.2.2->langchain_groq) (6.0.1)\n",
            "Collecting jsonpatch<2.0,>=1.33 (from langchain-core<0.3,>=0.2.2->langchain_groq)\n",
            "  Downloading jsonpatch-1.33-py2.py3-none-any.whl (12 kB)\n",
            "Collecting langsmith<0.2.0,>=0.1.75 (from langchain-core<0.3,>=0.2.2->langchain_groq)\n",
            "  Downloading langsmith-0.1.86-py3-none-any.whl (129 kB)\n",
            "\u001b[2K     \u001b[90m━━━━━━━━━━━━━━━━━━━━━━━━━━━━━━━━━━━━━━━━\u001b[0m \u001b[32m129.4/129.4 kB\u001b[0m \u001b[31m9.4 MB/s\u001b[0m eta \u001b[36m0:00:00\u001b[0m\n",
            "\u001b[?25hRequirement already satisfied: packaging<25,>=23.2 in /usr/local/lib/python3.10/dist-packages (from langchain-core<0.3,>=0.2.2->langchain_groq) (24.1)\n",
            "Requirement already satisfied: tenacity!=8.4.0,<9.0.0,>=8.1.0 in /usr/local/lib/python3.10/dist-packages (from langchain-core<0.3,>=0.2.2->langchain_groq) (8.5.0)\n",
            "Requirement already satisfied: idna>=2.8 in /usr/local/lib/python3.10/dist-packages (from anyio<5,>=3.5.0->groq<1,>=0.4.1->langchain_groq) (3.7)\n",
            "Requirement already satisfied: exceptiongroup in /usr/local/lib/python3.10/dist-packages (from anyio<5,>=3.5.0->groq<1,>=0.4.1->langchain_groq) (1.2.1)\n",
            "Requirement already satisfied: certifi in /usr/local/lib/python3.10/dist-packages (from httpx<1,>=0.23.0->groq<1,>=0.4.1->langchain_groq) (2024.7.4)\n",
            "Collecting httpcore==1.* (from httpx<1,>=0.23.0->groq<1,>=0.4.1->langchain_groq)\n",
            "  Downloading httpcore-1.0.5-py3-none-any.whl (77 kB)\n",
            "\u001b[2K     \u001b[90m━━━━━━━━━━━━━━━━━━━━━━━━━━━━━━━━━━━━━━━━\u001b[0m \u001b[32m77.9/77.9 kB\u001b[0m \u001b[31m3.6 MB/s\u001b[0m eta \u001b[36m0:00:00\u001b[0m\n",
            "\u001b[?25hCollecting h11<0.15,>=0.13 (from httpcore==1.*->httpx<1,>=0.23.0->groq<1,>=0.4.1->langchain_groq)\n",
            "  Downloading h11-0.14.0-py3-none-any.whl (58 kB)\n",
            "\u001b[2K     \u001b[90m━━━━━━━━━━━━━━━━━━━━━━━━━━━━━━━━━━━━━━━━\u001b[0m \u001b[32m58.3/58.3 kB\u001b[0m \u001b[31m3.1 MB/s\u001b[0m eta \u001b[36m0:00:00\u001b[0m\n",
            "\u001b[?25hCollecting jsonpointer>=1.9 (from jsonpatch<2.0,>=1.33->langchain-core<0.3,>=0.2.2->langchain_groq)\n",
            "  Downloading jsonpointer-3.0.0-py2.py3-none-any.whl (7.6 kB)\n",
            "Collecting orjson<4.0.0,>=3.9.14 (from langsmith<0.2.0,>=0.1.75->langchain-core<0.3,>=0.2.2->langchain_groq)\n",
            "  Downloading orjson-3.10.6-cp310-cp310-manylinux_2_17_x86_64.manylinux2014_x86_64.whl (141 kB)\n",
            "\u001b[2K     \u001b[90m━━━━━━━━━━━━━━━━━━━━━━━━━━━━━━━━━━━━━━━━\u001b[0m \u001b[32m141.1/141.1 kB\u001b[0m \u001b[31m1.1 MB/s\u001b[0m eta \u001b[36m0:00:00\u001b[0m\n",
            "\u001b[?25hRequirement already satisfied: requests<3,>=2 in /usr/local/lib/python3.10/dist-packages (from langsmith<0.2.0,>=0.1.75->langchain-core<0.3,>=0.2.2->langchain_groq) (2.31.0)\n",
            "Requirement already satisfied: annotated-types>=0.4.0 in /usr/local/lib/python3.10/dist-packages (from pydantic<3,>=1.9.0->groq<1,>=0.4.1->langchain_groq) (0.7.0)\n",
            "Requirement already satisfied: pydantic-core==2.20.1 in /usr/local/lib/python3.10/dist-packages (from pydantic<3,>=1.9.0->groq<1,>=0.4.1->langchain_groq) (2.20.1)\n",
            "Requirement already satisfied: charset-normalizer<4,>=2 in /usr/local/lib/python3.10/dist-packages (from requests<3,>=2->langsmith<0.2.0,>=0.1.75->langchain-core<0.3,>=0.2.2->langchain_groq) (3.3.2)\n",
            "Requirement already satisfied: urllib3<3,>=1.21.1 in /usr/local/lib/python3.10/dist-packages (from requests<3,>=2->langsmith<0.2.0,>=0.1.75->langchain-core<0.3,>=0.2.2->langchain_groq) (2.0.7)\n",
            "Installing collected packages: orjson, jsonpointer, h11, jsonpatch, httpcore, langsmith, httpx, langchain-core, groq, langchain_groq\n",
            "Successfully installed groq-0.9.0 h11-0.14.0 httpcore-1.0.5 httpx-0.27.0 jsonpatch-1.33 jsonpointer-3.0.0 langchain-core-0.2.19 langchain_groq-0.1.6 langsmith-0.1.86 orjson-3.10.6\n"
          ]
        }
      ],
      "source": [
        "pip install langchain_groq"
      ]
    },
    {
      "cell_type": "code",
      "execution_count": 3,
      "metadata": {
        "colab": {
          "base_uri": "https://localhost:8080/"
        },
        "id": "PH_QAjuPAZy_",
        "outputId": "e39f47a2-544e-4880-942d-1b94422ad48b"
      },
      "outputs": [
        {
          "output_type": "stream",
          "name": "stdout",
          "text": [
            "Collecting bert-score\n",
            "  Downloading bert_score-0.3.13-py3-none-any.whl (61 kB)\n",
            "\u001b[2K     \u001b[90m━━━━━━━━━━━━━━━━━━━━━━━━━━━━━━━━━━━━━━━━\u001b[0m \u001b[32m61.1/61.1 kB\u001b[0m \u001b[31m731.0 kB/s\u001b[0m eta \u001b[36m0:00:00\u001b[0m\n",
            "\u001b[?25hRequirement already satisfied: torch>=1.0.0 in /usr/local/lib/python3.10/dist-packages (from bert-score) (2.3.0+cu121)\n",
            "Requirement already satisfied: pandas>=1.0.1 in /usr/local/lib/python3.10/dist-packages (from bert-score) (2.0.3)\n",
            "Requirement already satisfied: transformers>=3.0.0 in /usr/local/lib/python3.10/dist-packages (from bert-score) (4.41.2)\n",
            "Requirement already satisfied: numpy in /usr/local/lib/python3.10/dist-packages (from bert-score) (1.25.2)\n",
            "Requirement already satisfied: requests in /usr/local/lib/python3.10/dist-packages (from bert-score) (2.31.0)\n",
            "Requirement already satisfied: tqdm>=4.31.1 in /usr/local/lib/python3.10/dist-packages (from bert-score) (4.66.4)\n",
            "Requirement already satisfied: matplotlib in /usr/local/lib/python3.10/dist-packages (from bert-score) (3.7.1)\n",
            "Requirement already satisfied: packaging>=20.9 in /usr/local/lib/python3.10/dist-packages (from bert-score) (24.1)\n",
            "Requirement already satisfied: python-dateutil>=2.8.2 in /usr/local/lib/python3.10/dist-packages (from pandas>=1.0.1->bert-score) (2.8.2)\n",
            "Requirement already satisfied: pytz>=2020.1 in /usr/local/lib/python3.10/dist-packages (from pandas>=1.0.1->bert-score) (2023.4)\n",
            "Requirement already satisfied: tzdata>=2022.1 in /usr/local/lib/python3.10/dist-packages (from pandas>=1.0.1->bert-score) (2024.1)\n",
            "Requirement already satisfied: filelock in /usr/local/lib/python3.10/dist-packages (from torch>=1.0.0->bert-score) (3.15.4)\n",
            "Requirement already satisfied: typing-extensions>=4.8.0 in /usr/local/lib/python3.10/dist-packages (from torch>=1.0.0->bert-score) (4.12.2)\n",
            "Requirement already satisfied: sympy in /usr/local/lib/python3.10/dist-packages (from torch>=1.0.0->bert-score) (1.13.0)\n",
            "Requirement already satisfied: networkx in /usr/local/lib/python3.10/dist-packages (from torch>=1.0.0->bert-score) (3.3)\n",
            "Requirement already satisfied: jinja2 in /usr/local/lib/python3.10/dist-packages (from torch>=1.0.0->bert-score) (3.1.4)\n",
            "Requirement already satisfied: fsspec in /usr/local/lib/python3.10/dist-packages (from torch>=1.0.0->bert-score) (2023.6.0)\n",
            "Collecting nvidia-cuda-nvrtc-cu12==12.1.105 (from torch>=1.0.0->bert-score)\n",
            "  Using cached nvidia_cuda_nvrtc_cu12-12.1.105-py3-none-manylinux1_x86_64.whl (23.7 MB)\n",
            "Collecting nvidia-cuda-runtime-cu12==12.1.105 (from torch>=1.0.0->bert-score)\n",
            "  Using cached nvidia_cuda_runtime_cu12-12.1.105-py3-none-manylinux1_x86_64.whl (823 kB)\n",
            "Collecting nvidia-cuda-cupti-cu12==12.1.105 (from torch>=1.0.0->bert-score)\n",
            "  Using cached nvidia_cuda_cupti_cu12-12.1.105-py3-none-manylinux1_x86_64.whl (14.1 MB)\n",
            "Collecting nvidia-cudnn-cu12==8.9.2.26 (from torch>=1.0.0->bert-score)\n",
            "  Using cached nvidia_cudnn_cu12-8.9.2.26-py3-none-manylinux1_x86_64.whl (731.7 MB)\n",
            "Collecting nvidia-cublas-cu12==12.1.3.1 (from torch>=1.0.0->bert-score)\n",
            "  Using cached nvidia_cublas_cu12-12.1.3.1-py3-none-manylinux1_x86_64.whl (410.6 MB)\n",
            "Collecting nvidia-cufft-cu12==11.0.2.54 (from torch>=1.0.0->bert-score)\n",
            "  Using cached nvidia_cufft_cu12-11.0.2.54-py3-none-manylinux1_x86_64.whl (121.6 MB)\n",
            "Collecting nvidia-curand-cu12==10.3.2.106 (from torch>=1.0.0->bert-score)\n",
            "  Using cached nvidia_curand_cu12-10.3.2.106-py3-none-manylinux1_x86_64.whl (56.5 MB)\n",
            "Collecting nvidia-cusolver-cu12==11.4.5.107 (from torch>=1.0.0->bert-score)\n",
            "  Using cached nvidia_cusolver_cu12-11.4.5.107-py3-none-manylinux1_x86_64.whl (124.2 MB)\n",
            "Collecting nvidia-cusparse-cu12==12.1.0.106 (from torch>=1.0.0->bert-score)\n",
            "  Using cached nvidia_cusparse_cu12-12.1.0.106-py3-none-manylinux1_x86_64.whl (196.0 MB)\n",
            "Collecting nvidia-nccl-cu12==2.20.5 (from torch>=1.0.0->bert-score)\n",
            "  Using cached nvidia_nccl_cu12-2.20.5-py3-none-manylinux2014_x86_64.whl (176.2 MB)\n",
            "Collecting nvidia-nvtx-cu12==12.1.105 (from torch>=1.0.0->bert-score)\n",
            "  Using cached nvidia_nvtx_cu12-12.1.105-py3-none-manylinux1_x86_64.whl (99 kB)\n",
            "Requirement already satisfied: triton==2.3.0 in /usr/local/lib/python3.10/dist-packages (from torch>=1.0.0->bert-score) (2.3.0)\n",
            "Collecting nvidia-nvjitlink-cu12 (from nvidia-cusolver-cu12==11.4.5.107->torch>=1.0.0->bert-score)\n",
            "  Downloading nvidia_nvjitlink_cu12-12.5.82-py3-none-manylinux2014_x86_64.whl (21.3 MB)\n",
            "\u001b[2K     \u001b[90m━━━━━━━━━━━━━━━━━━━━━━━━━━━━━━━━━━━━━━━━\u001b[0m \u001b[32m21.3/21.3 MB\u001b[0m \u001b[31m40.6 MB/s\u001b[0m eta \u001b[36m0:00:00\u001b[0m\n",
            "\u001b[?25hRequirement already satisfied: huggingface-hub<1.0,>=0.23.0 in /usr/local/lib/python3.10/dist-packages (from transformers>=3.0.0->bert-score) (0.23.4)\n",
            "Requirement already satisfied: pyyaml>=5.1 in /usr/local/lib/python3.10/dist-packages (from transformers>=3.0.0->bert-score) (6.0.1)\n",
            "Requirement already satisfied: regex!=2019.12.17 in /usr/local/lib/python3.10/dist-packages (from transformers>=3.0.0->bert-score) (2024.5.15)\n",
            "Requirement already satisfied: tokenizers<0.20,>=0.19 in /usr/local/lib/python3.10/dist-packages (from transformers>=3.0.0->bert-score) (0.19.1)\n",
            "Requirement already satisfied: safetensors>=0.4.1 in /usr/local/lib/python3.10/dist-packages (from transformers>=3.0.0->bert-score) (0.4.3)\n",
            "Requirement already satisfied: contourpy>=1.0.1 in /usr/local/lib/python3.10/dist-packages (from matplotlib->bert-score) (1.2.1)\n",
            "Requirement already satisfied: cycler>=0.10 in /usr/local/lib/python3.10/dist-packages (from matplotlib->bert-score) (0.12.1)\n",
            "Requirement already satisfied: fonttools>=4.22.0 in /usr/local/lib/python3.10/dist-packages (from matplotlib->bert-score) (4.53.1)\n",
            "Requirement already satisfied: kiwisolver>=1.0.1 in /usr/local/lib/python3.10/dist-packages (from matplotlib->bert-score) (1.4.5)\n",
            "Requirement already satisfied: pillow>=6.2.0 in /usr/local/lib/python3.10/dist-packages (from matplotlib->bert-score) (9.4.0)\n",
            "Requirement already satisfied: pyparsing>=2.3.1 in /usr/local/lib/python3.10/dist-packages (from matplotlib->bert-score) (3.1.2)\n",
            "Requirement already satisfied: charset-normalizer<4,>=2 in /usr/local/lib/python3.10/dist-packages (from requests->bert-score) (3.3.2)\n",
            "Requirement already satisfied: idna<4,>=2.5 in /usr/local/lib/python3.10/dist-packages (from requests->bert-score) (3.7)\n",
            "Requirement already satisfied: urllib3<3,>=1.21.1 in /usr/local/lib/python3.10/dist-packages (from requests->bert-score) (2.0.7)\n",
            "Requirement already satisfied: certifi>=2017.4.17 in /usr/local/lib/python3.10/dist-packages (from requests->bert-score) (2024.7.4)\n",
            "Requirement already satisfied: six>=1.5 in /usr/local/lib/python3.10/dist-packages (from python-dateutil>=2.8.2->pandas>=1.0.1->bert-score) (1.16.0)\n",
            "Requirement already satisfied: MarkupSafe>=2.0 in /usr/local/lib/python3.10/dist-packages (from jinja2->torch>=1.0.0->bert-score) (2.1.5)\n",
            "Requirement already satisfied: mpmath<1.4,>=1.1.0 in /usr/local/lib/python3.10/dist-packages (from sympy->torch>=1.0.0->bert-score) (1.3.0)\n",
            "Installing collected packages: nvidia-nvtx-cu12, nvidia-nvjitlink-cu12, nvidia-nccl-cu12, nvidia-curand-cu12, nvidia-cufft-cu12, nvidia-cuda-runtime-cu12, nvidia-cuda-nvrtc-cu12, nvidia-cuda-cupti-cu12, nvidia-cublas-cu12, nvidia-cusparse-cu12, nvidia-cudnn-cu12, nvidia-cusolver-cu12, bert-score\n",
            "Successfully installed bert-score-0.3.13 nvidia-cublas-cu12-12.1.3.1 nvidia-cuda-cupti-cu12-12.1.105 nvidia-cuda-nvrtc-cu12-12.1.105 nvidia-cuda-runtime-cu12-12.1.105 nvidia-cudnn-cu12-8.9.2.26 nvidia-cufft-cu12-11.0.2.54 nvidia-curand-cu12-10.3.2.106 nvidia-cusolver-cu12-11.4.5.107 nvidia-cusparse-cu12-12.1.0.106 nvidia-nccl-cu12-2.20.5 nvidia-nvjitlink-cu12-12.5.82 nvidia-nvtx-cu12-12.1.105\n"
          ]
        }
      ],
      "source": [
        "!pip install bert-score"
      ]
    },
    {
      "cell_type": "code",
      "execution_count": 4,
      "metadata": {
        "id": "VtRdTzWQ7NbT"
      },
      "outputs": [],
      "source": [
        "from transformers import BertTokenizer, BertForMaskedLM, BertModel\n",
        "from nltk.translate.bleu_score import corpus_bleu\n",
        "from langchain_groq import ChatGroq\n",
        "from bert_score import BERTScorer\n",
        "from tqdm import tqdm\n",
        "import random"
      ]
    },
    {
      "cell_type": "code",
      "execution_count": 5,
      "metadata": {
        "id": "WNswgT_M7S06"
      },
      "outputs": [],
      "source": [
        "data_path = '/content/AMT_LLMs/data/'\n",
        "\n",
        "ar_examples = open('{}ar_examples.txt'.format(data_path),\n",
        "                   encoding='utf-8').read().strip().split('\\n')\n",
        "\n",
        "en_examples = open('{}en_examples.txt'.format(data_path),\n",
        "                   encoding='utf-8').read().strip().split('\\n')\n",
        "\n",
        "ar_train_examples = open('{}kshots_ar_samples.txt'.format(data_path),\n",
        "                         encoding='utf-8').read().strip().split('\\n')\n",
        "\n",
        "en_train_examples = open('{}kshots_en_samples.txt'.format(data_path),\n",
        "                         encoding='utf-8').read().strip().split('\\n')"
      ]
    },
    {
      "cell_type": "markdown",
      "metadata": {
        "id": "7z0SfMq2ySkl"
      },
      "source": [
        "#Zero-shot"
      ]
    },
    {
      "cell_type": "markdown",
      "metadata": {
        "id": "VtKffQ2JAlRw"
      },
      "source": [
        "###Arabic to English"
      ]
    },
    {
      "cell_type": "markdown",
      "metadata": {
        "id": "kZbA5WuRdvoX"
      },
      "source": [
        "####English Prompt"
      ]
    },
    {
      "cell_type": "code",
      "execution_count": null,
      "metadata": {
        "colab": {
          "base_uri": "https://localhost:8080/"
        },
        "id": "0JC8wBVj9WxT",
        "outputId": "ac1f1eab-6e98-4a13-cb33-089d2a997983"
      },
      "outputs": [
        {
          "name": "stderr",
          "output_type": "stream",
          "text": [
            "100%|██████████| 500/500 [17:52<00:00,  2.15s/it]\n"
          ]
        }
      ],
      "source": [
        "GROQ_API_KEY = \"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\"\n",
        "groq_llm = ChatGroq(model_name=\"mixtral-8x7b-32768\", temperature=0,\n",
        "                    api_key=GROQ_API_KEY)\n",
        "\n",
        "system_message = \"Translate the input text into English. Do not explain your answer!\"\n",
        "user_message_template =\"Text: {text}\"\n",
        "\n",
        "tr_examples = []\n",
        "for i in tqdm(range(len(ar_examples))):\n",
        "    prompt = [{\"role\":\"system\", \"content\":system_message},\n",
        "     {\"role\":\"user\", \"content\":user_message_template.format(text=ar_examples[i])}]\n",
        "    response = groq_llm.invoke(prompt)\n",
        "    tr_examples.append(response.content)"
      ]
    },
    {
      "cell_type": "code",
      "execution_count": null,
      "metadata": {
        "colab": {
          "base_uri": "https://localhost:8080/"
        },
        "id": "bkkrh6yLE7fK",
        "outputId": "53fc1550-b4ec-4e4a-e941-f07c7a453d36"
      },
      "outputs": [
        {
          "name": "stdout",
          "output_type": "stream",
          "text": [
            "BLEU Score:\t 43.3\n"
          ]
        }
      ],
      "source": [
        "references = [[sen] for sen in en_examples]\n",
        "candidates = [sen for sen in tr_examples]\n",
        "bleu = corpus_bleu(references, candidates)\n",
        "print(\"BLEU Score:\\t\", round(100*bleu,2))"
      ]
    },
    {
      "cell_type": "code",
      "execution_count": null,
      "metadata": {
        "colab": {
          "base_uri": "https://localhost:8080/"
        },
        "id": "mX8YPBT7iKwq",
        "outputId": "07f30e25-6bf7-4e01-fd34-6b4331de76c5"
      },
      "outputs": [
        {
          "name": "stdout",
          "output_type": "stream",
          "text": [
            "BERT Score:\t 70.24\n"
          ]
        }
      ],
      "source": [
        "scorer = BERTScorer(model_type='bert-base-uncased', lang='en')\n",
        "_, _, F1 = scorer.score(tr_examples, en_examples)\n",
        "print(\"BERT Score:\\t\", round(100*F1.mean().item(),2))"
      ]
    },
    {
      "cell_type": "markdown",
      "metadata": {
        "id": "ws97bYvydpwi"
      },
      "source": [
        "####Arabic Prompt"
      ]
    },
    {
      "cell_type": "code",
      "execution_count": 6,
      "metadata": {
        "colab": {
          "base_uri": "https://localhost:8080/"
        },
        "id": "t0TEl4HhWVN8",
        "outputId": "a956c7fc-2281-4928-89fc-3dbab2912def"
      },
      "outputs": [
        {
          "output_type": "stream",
          "name": "stderr",
          "text": [
            "100%|██████████| 500/500 [17:20<00:00,  2.08s/it]\n"
          ]
        }
      ],
      "source": [
        "GROQ_API_KEY = \"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\"\n",
        "groq_llm = ChatGroq(model_name=\"mixtral-8x7b-32768\", temperature=0,\n",
        "                    api_key=GROQ_API_KEY)\n",
        "\n",
        "system_message = \"ترجم النص المدخل إلى اللغة الإنجليزية. لا تشرح إجابتك!\"\n",
        "user_message_template =\"Text: {text}\"\n",
        "\n",
        "tr_examples = []\n",
        "for i in tqdm(range(len(ar_examples))):\n",
        "    prompt = [{\"role\":\"system\", \"content\":system_message},\n",
        "     {\"role\":\"user\", \"content\":user_message_template.format(text=ar_examples[i])}]\n",
        "    response = groq_llm.invoke(prompt)\n",
        "    tr_examples.append(response.content.split(\"\\n\")[0])"
      ]
    },
    {
      "cell_type": "code",
      "execution_count": 7,
      "metadata": {
        "id": "rV3mYGDFWUw5",
        "colab": {
          "base_uri": "https://localhost:8080/"
        },
        "outputId": "865e5607-ad11-44a9-d5e3-d6a4baee967c"
      },
      "outputs": [
        {
          "output_type": "stream",
          "name": "stdout",
          "text": [
            "BLEU Score:\t 48.21\n"
          ]
        }
      ],
      "source": [
        "references = [[sen] for sen in en_examples]\n",
        "candidates = [sen for sen in tr_examples]\n",
        "bleu = corpus_bleu(references, candidates)\n",
        "print(\"BLEU Score:\\t\", round(100*bleu,2))"
      ]
    },
    {
      "cell_type": "code",
      "execution_count": 9,
      "metadata": {
        "colab": {
          "base_uri": "https://localhost:8080/"
        },
        "id": "Y9cUuONJWUq2",
        "outputId": "b1bdc699-a70d-450d-c5a6-1a8839c0a9be"
      },
      "outputs": [
        {
          "output_type": "stream",
          "name": "stdout",
          "text": [
            "BERT Score:\t 70.47\n"
          ]
        }
      ],
      "source": [
        "scorer = BERTScorer(model_type='bert-base-uncased', lang='en')\n",
        "_, _, F1 = scorer.score(tr_examples, en_examples)\n",
        "print(\"BERT Score:\\t\", round(100*F1.mean().item(),2))"
      ]
    },
    {
      "cell_type": "markdown",
      "metadata": {
        "id": "8ieOQL4mBQ3r"
      },
      "source": [
        "###English to Arabic"
      ]
    },
    {
      "cell_type": "code",
      "execution_count": null,
      "metadata": {
        "colab": {
          "background_save": true,
          "base_uri": "https://localhost:8080/"
        },
        "id": "GJ1NvqQoBTWv",
        "outputId": "b0241eca-4128-4fe0-fd95-3128396169d6"
      },
      "outputs": [
        {
          "name": "stderr",
          "output_type": "stream",
          "text": [
            "100%|██████████| 500/500 [18:46<00:00,  2.25s/it]\n"
          ]
        }
      ],
      "source": [
        "GROQ_API_KEY = \"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\"\n",
        "groq_llm = ChatGroq(model_name=\"mixtral-8x7b-32768\", temperature=0,\n",
        "                    api_key=GROQ_API_KEY)\n",
        "\n",
        "system_message = \"ترجم النص المدخل إلى اللغة العربية. لا تشرح إجابتك!\"\n",
        "user_message_template =\"Text: {text}\"\n",
        "\n",
        "tr_examples = []\n",
        "for i in tqdm(range(len(ar_examples))):\n",
        "    prompt = [{\"role\":\"system\", \"content\":system_message},\n",
        "     {\"role\":\"user\", \"content\":user_message_template.format(text=en_examples[i])}]\n",
        "    response = groq_llm.invoke(prompt)\n",
        "    tr_examples.append(response.content.split(\"\\n\")[0])"
      ]
    },
    {
      "cell_type": "code",
      "execution_count": null,
      "metadata": {
        "colab": {
          "background_save": true,
          "base_uri": "https://localhost:8080/"
        },
        "id": "gQOxvBnRBTQj",
        "outputId": "ed8c513c-c7d2-4f10-c5fe-c989cc91cbe2"
      },
      "outputs": [
        {
          "name": "stdout",
          "output_type": "stream",
          "text": [
            "BLEU Score:\t 38.12\n"
          ]
        }
      ],
      "source": [
        "references = [[sen] for sen in ar_examples]\n",
        "candidates = [sen for sen in tr_examples]\n",
        "bleu = corpus_bleu(references, candidates)\n",
        "print(\"BLEU Score:\\t\", round(100*bleu,2))"
      ]
    },
    {
      "cell_type": "code",
      "execution_count": 13,
      "metadata": {
        "colab": {
          "base_uri": "https://localhost:8080/"
        },
        "id": "uH0-s5S2BTGD",
        "outputId": "d8bd3deb-8e4e-4e2e-94ce-5e6632a6dadc"
      },
      "outputs": [
        {
          "output_type": "stream",
          "name": "stdout",
          "text": [
            "BERT Score:\t 77.2\n"
          ]
        }
      ],
      "source": [
        "scorer = BERTScorer(model_type='bert-base-uncased', lang='ar')\n",
        "_, _, F1 = scorer.score(tr_examples, ar_examples)\n",
        "print(\"BERT Score:\\t\", round(100*F1.mean().item(),2))"
      ]
    },
    {
      "cell_type": "markdown",
      "metadata": {
        "id": "EWQuikUlyV4V"
      },
      "source": [
        "#Few-shot"
      ]
    },
    {
      "cell_type": "code",
      "execution_count": 6,
      "metadata": {
        "id": "OwuqQZI8Sa4L"
      },
      "outputs": [],
      "source": [
        "def create_examples(ar_samples, en_samples, ar2en=True, n=4):\n",
        "    examples = []\n",
        "    random.seed(42)\n",
        "    ar = random.sample(ar_samples, n)\n",
        "    random.seed(42)\n",
        "    en = random.sample(en_samples, n)\n",
        "\n",
        "    for i in range(n):\n",
        "        if ar2en:\n",
        "            examples.append({'text': ar[i], 'translation': en[i]})\n",
        "        else:\n",
        "            examples.append({'text': en[i], 'translation': ar[i]})\n",
        "    return examples\n",
        "\n",
        "def create_prompt(system_message, examples, user_message_template):\n",
        "    few_shot_prompt = [{'role':'system', 'content':system_message}]\n",
        "    for example in examples:\n",
        "        example_input = example['text']\n",
        "        example_translation = example['translation']\n",
        "        few_shot_prompt.append(\n",
        "            {'role':'user',\n",
        "             'content':user_message_template.format(text=example_input)}\n",
        "        )\n",
        "        few_shot_prompt.append(\n",
        "            {'role':'assistant', 'content':f\"{example_translation}\"}\n",
        "        )\n",
        "    return few_shot_prompt"
      ]
    },
    {
      "cell_type": "markdown",
      "metadata": {
        "id": "sV2w7d-DyYfg"
      },
      "source": [
        "##1-shot"
      ]
    },
    {
      "cell_type": "markdown",
      "source": [
        "####Arabic to English"
      ],
      "metadata": {
        "id": "yQiRtHhJXmCf"
      }
    },
    {
      "cell_type": "code",
      "execution_count": 29,
      "metadata": {
        "colab": {
          "base_uri": "https://localhost:8080/"
        },
        "id": "uFiRAiDfSbjp",
        "outputId": "df11dae6-1caa-4d6b-fff4-26de189c3233"
      },
      "outputs": [
        {
          "output_type": "stream",
          "name": "stderr",
          "text": [
            "100%|██████████| 500/500 [18:39<00:00,  2.24s/it]\n"
          ]
        }
      ],
      "source": [
        "GROQ_API_KEY = \"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\"\n",
        "groq_llm = ChatGroq(model_name=\"mixtral-8x7b-32768\", temperature=0,\n",
        "                    api_key=GROQ_API_KEY)\n",
        "\n",
        "examples = create_examples(ar_train_examples, en_train_examples, n=1)\n",
        "\n",
        "system_message = \"ترجم النص المدخل إلى اللغة الإنجليزية. لا تشرح إجابتك!\"\n",
        "user_message_template =\"Text: {text}\"\n",
        "\n",
        "tr_examples = []\n",
        "for i in tqdm(range(len(ar_examples))):\n",
        "    prompt = create_prompt(system_message, examples, user_message_template)\n",
        "    prompt.append({\"role\":\"user\",\n",
        "                   \"content\":user_message_template.format(text=ar_examples[i])})\n",
        "    response = groq_llm.invoke(prompt)\n",
        "    tr_examples.append(response.content.split(\"\\n\")[0])"
      ]
    },
    {
      "cell_type": "code",
      "execution_count": 30,
      "metadata": {
        "colab": {
          "base_uri": "https://localhost:8080/"
        },
        "id": "g3U3UyMdSmwk",
        "outputId": "25480579-8414-4b76-b8a5-8c56d2088fb0"
      },
      "outputs": [
        {
          "output_type": "stream",
          "name": "stdout",
          "text": [
            "BLEU Score:\t 50.49\n"
          ]
        }
      ],
      "source": [
        "references = [[sen] for sen in en_examples]\n",
        "candidates = [sen for sen in tr_examples]\n",
        "bleu = corpus_bleu(references, candidates)\n",
        "print(\"BLEU Score:\\t\", round(100*bleu,2))"
      ]
    },
    {
      "cell_type": "code",
      "execution_count": 31,
      "metadata": {
        "colab": {
          "base_uri": "https://localhost:8080/",
          "height": 353,
          "referenced_widgets": [
            "780cb8dfd728426aad7e5d74c874a6a0",
            "a728debf25434d4f8f27bfc4edd30f47",
            "912adb329c424b7fa63502df87f5e811",
            "f3529e9925ed4451b8f3abf7e32433de",
            "d3904b0982f84eef9fb71a2fd664213f",
            "f9cdcc675bc64838afda901966c8c4d8",
            "5a61279c6525454ca58507497c0a6935",
            "6d026d32655b4053a7d085581eaa874e",
            "e0186f957321482489bc5efa5c54c1ef",
            "89dd5cba702a4d7f9bd1998883bdcd1a",
            "4f44fc2a15334d70b905fd54b47fd644",
            "99993701d56341d1b5ab521c3a3a3e8a",
            "2c2781e338ec4810bacc9b09f787451c",
            "58ba39b6ba944cf8930217af4cad7a77",
            "60f12f37cfda46ecac2729e3155277b8",
            "ed431c731c1e4b7eb191d36d501ab929",
            "b049b70b26184d4a892c488f04d69111",
            "c1fb4b4fffe94363ba01af1b90bd5f90",
            "aee6ea2ab61049b29fe93d263f610ba2",
            "df764684fa8f46feb8581f5180a46957",
            "d23b7d67c3d642129eabc27239130a88",
            "7fe127bfadf042fabed49a91deb85d08",
            "9c4bf797d8cc40dca87cd8f8f4609423",
            "0b60cb746b8d4f2d82a4ac8b05425716",
            "7514c913d0634cc9affa7a381bcc4aaa",
            "89790820c3ec4d9996eba377753d327a",
            "b53b2b98a54e43fb92330ce9ede7880d",
            "74d8a0fae9474f548dadfb7dc5d23345",
            "adde5f8ff1a6445c8759d727fb867674",
            "232f970ef91b4c15a6396093db1fbb29",
            "e22e2583436a48249c29c90c17e303ee",
            "b90fdf4312154ab0bedfd82801a1049e",
            "7945a4dcfe574edab753afa8cb69eb3f",
            "961303cf1c774689a7d6be80c7a599d1",
            "b16e1020da99491883a7e25d96e59cce",
            "f66d78df2b194af0bd613d7e0497eaca",
            "396c1e7f13ea469eab982691d4c56a45",
            "2887f26b9f384d9b812ec58c2a34bcda",
            "9973498e729748f9bb6ea8014f019164",
            "4ca686e8bcb541f2a0938d770fd2c954",
            "46a0e5633e6e43a4a8a824150b6c2240",
            "3b7f200ef1204639972ab696a1230be6",
            "6554cf7f28c7452c84d7c28190d64ad7",
            "a9e998e9bc2e4ba7af897acbbfd17b82",
            "725be8c0b49b477fa9fbfb9d0829c1e2",
            "14372969606849d6bd853431596cece8",
            "5c0d96ca38f84ca1809275fdac2baf63",
            "315e04b29742406882baaf8cbf55463a",
            "93dc261cd9084ca8838d2567ac58e820",
            "7c4a6647c38c46a19e6407120bb3adb1",
            "99ce57fed0194264a3b951d1bb3c95df",
            "3625eb14f11646be99cdc98189efad30",
            "218b36707d324a419be66fab8d547aed",
            "4430c67c9c92475281d239dceb49db4b",
            "51cb61dcd33d4ae3ba91f33cbc471e7b"
          ]
        },
        "id": "a7bTZOs3jILg",
        "outputId": "dc04fbc1-4f32-47ee-a90f-36e6947c5164"
      },
      "outputs": [
        {
          "output_type": "stream",
          "name": "stderr",
          "text": [
            "/usr/local/lib/python3.10/dist-packages/huggingface_hub/utils/_token.py:89: UserWarning: \n",
            "The secret `HF_TOKEN` does not exist in your Colab secrets.\n",
            "To authenticate with the Hugging Face Hub, create a token in your settings tab (https://huggingface.co/settings/tokens), set it as secret in your Google Colab and restart your session.\n",
            "You will be able to reuse this secret in all of your notebooks.\n",
            "Please note that authentication is recommended but still optional to access public models or datasets.\n",
            "  warnings.warn(\n"
          ]
        },
        {
          "output_type": "display_data",
          "data": {
            "text/plain": [
              "tokenizer_config.json:   0%|          | 0.00/48.0 [00:00<?, ?B/s]"
            ],
            "application/vnd.jupyter.widget-view+json": {
              "version_major": 2,
              "version_minor": 0,
              "model_id": "780cb8dfd728426aad7e5d74c874a6a0"
            }
          },
          "metadata": {}
        },
        {
          "output_type": "stream",
          "name": "stderr",
          "text": [
            "/usr/local/lib/python3.10/dist-packages/huggingface_hub/file_download.py:1132: FutureWarning: `resume_download` is deprecated and will be removed in version 1.0.0. Downloads always resume when possible. If you want to force a new download, use `force_download=True`.\n",
            "  warnings.warn(\n"
          ]
        },
        {
          "output_type": "display_data",
          "data": {
            "text/plain": [
              "config.json:   0%|          | 0.00/570 [00:00<?, ?B/s]"
            ],
            "application/vnd.jupyter.widget-view+json": {
              "version_major": 2,
              "version_minor": 0,
              "model_id": "99993701d56341d1b5ab521c3a3a3e8a"
            }
          },
          "metadata": {}
        },
        {
          "output_type": "display_data",
          "data": {
            "text/plain": [
              "vocab.txt:   0%|          | 0.00/232k [00:00<?, ?B/s]"
            ],
            "application/vnd.jupyter.widget-view+json": {
              "version_major": 2,
              "version_minor": 0,
              "model_id": "9c4bf797d8cc40dca87cd8f8f4609423"
            }
          },
          "metadata": {}
        },
        {
          "output_type": "display_data",
          "data": {
            "text/plain": [
              "tokenizer.json:   0%|          | 0.00/466k [00:00<?, ?B/s]"
            ],
            "application/vnd.jupyter.widget-view+json": {
              "version_major": 2,
              "version_minor": 0,
              "model_id": "961303cf1c774689a7d6be80c7a599d1"
            }
          },
          "metadata": {}
        },
        {
          "output_type": "display_data",
          "data": {
            "text/plain": [
              "model.safetensors:   0%|          | 0.00/440M [00:00<?, ?B/s]"
            ],
            "application/vnd.jupyter.widget-view+json": {
              "version_major": 2,
              "version_minor": 0,
              "model_id": "725be8c0b49b477fa9fbfb9d0829c1e2"
            }
          },
          "metadata": {}
        },
        {
          "output_type": "stream",
          "name": "stdout",
          "text": [
            "BERT Score:\t 71.92\n"
          ]
        }
      ],
      "source": [
        "scorer = BERTScorer(model_type='bert-base-uncased', lang='en')\n",
        "_, _, F1 = scorer.score(tr_examples, en_examples)\n",
        "print(\"BERT Score:\\t\", round(100*F1.mean().item(),2))"
      ]
    },
    {
      "cell_type": "markdown",
      "source": [
        "####English to Arabic"
      ],
      "metadata": {
        "id": "2LBoYenVY7WP"
      }
    },
    {
      "cell_type": "code",
      "source": [
        "GROQ_API_KEY = \"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\"\n",
        "groq_llm = ChatGroq(model_name=\"mixtral-8x7b-32768\", temperature=0,\n",
        "                    api_key=GROQ_API_KEY)\n",
        "\n",
        "examples = create_examples(ar_train_examples, en_train_examples, ar2en=False,\n",
        "                           n=1)\n",
        "\n",
        "system_message = \"ترجم النص المدخل إلى اللغة العربية. لا تشرح إجابتك!\"\n",
        "user_message_template =\"Text: {text}\"\n",
        "\n",
        "tr_examples = []\n",
        "for i in tqdm(range(len(en_examples))):\n",
        "    prompt = create_prompt(system_message, examples, user_message_template)\n",
        "    prompt.append({\"role\":\"user\",\n",
        "                   \"content\":user_message_template.format(text=en_examples[i])})\n",
        "    response = groq_llm.invoke(prompt)\n",
        "    tr_examples.append(response.content.split(\"\\n\")[0])"
      ],
      "metadata": {
        "colab": {
          "base_uri": "https://localhost:8080/"
        },
        "id": "uSp1BFnCY_On",
        "outputId": "075adee4-30d4-4e9a-a420-548db8e202a7"
      },
      "execution_count": 7,
      "outputs": [
        {
          "output_type": "stream",
          "name": "stderr",
          "text": [
            "100%|██████████| 500/500 [18:52<00:00,  2.26s/it]\n"
          ]
        }
      ]
    },
    {
      "cell_type": "code",
      "source": [
        "references = [[sen] for sen in ar_examples]\n",
        "candidates = [sen for sen in tr_examples]\n",
        "bleu = corpus_bleu(references, candidates)\n",
        "print(\"BLEU Score:\\t\", round(100*bleu,2))"
      ],
      "metadata": {
        "colab": {
          "base_uri": "https://localhost:8080/"
        },
        "id": "t_fh0eYZY_Gy",
        "outputId": "c87c7e6a-8e09-4c74-a887-c92da9113e7b"
      },
      "execution_count": 8,
      "outputs": [
        {
          "output_type": "stream",
          "name": "stdout",
          "text": [
            "BLEU Score:\t 17.19\n"
          ]
        }
      ]
    },
    {
      "cell_type": "code",
      "source": [
        "scorer = BERTScorer(model_type='bert-base-uncased', lang='ar')\n",
        "_, _, F1 = scorer.score(tr_examples, ar_examples)\n",
        "print(\"BERT Score:\\t\", round(100*F1.mean().item(),2))"
      ],
      "metadata": {
        "colab": {
          "base_uri": "https://localhost:8080/"
        },
        "id": "5ixPFpRWY-9x",
        "outputId": "78212e50-08cc-461f-e8e2-10bf8b20d195"
      },
      "execution_count": 11,
      "outputs": [
        {
          "output_type": "stream",
          "name": "stdout",
          "text": [
            "BERT Score:\t 77.37\n"
          ]
        }
      ]
    },
    {
      "cell_type": "markdown",
      "metadata": {
        "id": "qj1_gYrOyyqg"
      },
      "source": [
        "##2-shot"
      ]
    },
    {
      "cell_type": "markdown",
      "source": [
        "####Arabic to English"
      ],
      "metadata": {
        "id": "9evpPRx_Zygu"
      }
    },
    {
      "cell_type": "code",
      "execution_count": 36,
      "metadata": {
        "colab": {
          "base_uri": "https://localhost:8080/"
        },
        "id": "gRmSdVs_y0uK",
        "outputId": "6cd6b3b3-ad22-4095-9647-8dd90329b184"
      },
      "outputs": [
        {
          "output_type": "stream",
          "name": "stderr",
          "text": [
            "100%|██████████| 500/500 [26:55<00:00,  3.23s/it]\n"
          ]
        }
      ],
      "source": [
        "GROQ_API_KEY = \"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\"\n",
        "groq_llm = ChatGroq(model_name=\"mixtral-8x7b-32768\", temperature=0,\n",
        "                    api_key=GROQ_API_KEY)\n",
        "\n",
        "examples = create_examples(ar_train_examples, en_train_examples, n=2)\n",
        "\n",
        "system_message = \"ترجم النص المدخل إلى اللغة الإنجليزية. لا تشرح إجابتك!\"\n",
        "user_message_template =\"Text: {text}\"\n",
        "\n",
        "tr_examples = []\n",
        "for i in tqdm(range(len(ar_examples))):\n",
        "    prompt = create_prompt(system_message, examples, user_message_template)\n",
        "    prompt.append({\"role\":\"user\",\n",
        "                   \"content\":user_message_template.format(text=ar_examples[i])})\n",
        "    response = groq_llm.invoke(prompt)\n",
        "    tr_examples.append(response.content.split(\"\\n\")[0])"
      ]
    },
    {
      "cell_type": "code",
      "source": [
        "references = [[sen] for sen in en_examples]\n",
        "candidates = [sen for sen in tr_examples]\n",
        "bleu = corpus_bleu(references, candidates)\n",
        "print(\"BLEU Score:\\t\", round(100*bleu,2))"
      ],
      "metadata": {
        "colab": {
          "base_uri": "https://localhost:8080/"
        },
        "id": "AoH8hpxwZxxL",
        "outputId": "4890bd22-e5cd-4566-ec32-96ce8857f269"
      },
      "execution_count": 37,
      "outputs": [
        {
          "output_type": "stream",
          "name": "stdout",
          "text": [
            "BLEU Score:\t 55.76\n"
          ]
        }
      ]
    },
    {
      "cell_type": "code",
      "source": [
        "scorer = BERTScorer(model_type='bert-base-uncased', lang='en')\n",
        "_, _, F1 = scorer.score(tr_examples, en_examples)\n",
        "print(\"BERT Score:\\t\", round(100*F1.mean().item(),2))"
      ],
      "metadata": {
        "colab": {
          "base_uri": "https://localhost:8080/"
        },
        "id": "Iw-oVV53Zwzt",
        "outputId": "2ba2dde6-59ad-4e8d-c068-e9356227faab"
      },
      "execution_count": 38,
      "outputs": [
        {
          "output_type": "stream",
          "name": "stdout",
          "text": [
            "BERT Score:\t 73.71\n"
          ]
        }
      ]
    },
    {
      "cell_type": "markdown",
      "source": [
        "####English to Arabic"
      ],
      "metadata": {
        "id": "tjWHA5r4aCkL"
      }
    },
    {
      "cell_type": "code",
      "source": [
        "GROQ_API_KEY = \"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\"\n",
        "groq_llm = ChatGroq(model_name=\"mixtral-8x7b-32768\", temperature=0,\n",
        "                    api_key=GROQ_API_KEY)\n",
        "\n",
        "examples = create_examples(ar_train_examples, en_train_examples, ar2en=False,\n",
        "                           n=2)\n",
        "\n",
        "system_message = \"ترجم النص المدخل إلى اللغة العربية. لا تشرح إجابتك!\"\n",
        "user_message_template =\"Text: {text}\"\n",
        "\n",
        "tr_examples = []\n",
        "for i in tqdm(range(len(en_examples))):\n",
        "    prompt = create_prompt(system_message, examples, user_message_template)\n",
        "    prompt.append({\"role\":\"user\",\n",
        "                   \"content\":user_message_template.format(text=en_examples[i])})\n",
        "    response = groq_llm.invoke(prompt)\n",
        "    tr_examples.append(response.content.split(\"\\n\")[0])"
      ],
      "metadata": {
        "colab": {
          "base_uri": "https://localhost:8080/"
        },
        "id": "oGu97RrUaF31",
        "outputId": "3d67acc4-2041-46ea-ebb3-9137aed735f9"
      },
      "execution_count": 40,
      "outputs": [
        {
          "output_type": "stream",
          "name": "stderr",
          "text": [
            "100%|██████████| 500/500 [23:59<00:00,  2.88s/it]\n"
          ]
        }
      ]
    },
    {
      "cell_type": "code",
      "source": [
        "references = [[sen] for sen in ar_examples]\n",
        "candidates = [sen for sen in tr_examples]\n",
        "bleu = corpus_bleu(references, candidates)\n",
        "print(\"BLEU Score:\\t\", round(100*bleu,2))"
      ],
      "metadata": {
        "colab": {
          "base_uri": "https://localhost:8080/"
        },
        "id": "EARz8gl6aFfm",
        "outputId": "6e95b208-12ba-47db-906b-acb2689ced46"
      },
      "execution_count": 41,
      "outputs": [
        {
          "output_type": "stream",
          "name": "stdout",
          "text": [
            "BLEU Score:\t 39.53\n"
          ]
        }
      ]
    },
    {
      "cell_type": "code",
      "source": [
        "scorer = BERTScorer(model_type='bert-base-uncased', lang='ar')\n",
        "_, _, F1 = scorer.score(tr_examples, ar_examples)\n",
        "print(\"BERT Score:\\t\", round(100*F1.mean().item(),2))"
      ],
      "metadata": {
        "colab": {
          "base_uri": "https://localhost:8080/"
        },
        "id": "PcdqGZg-aFXW",
        "outputId": "4fdc4906-8efe-4c36-fe90-949977b4a153"
      },
      "execution_count": 42,
      "outputs": [
        {
          "output_type": "stream",
          "name": "stdout",
          "text": [
            "BERT Score:\t 78.72\n"
          ]
        }
      ]
    },
    {
      "cell_type": "markdown",
      "metadata": {
        "id": "Q8JLGIRRy5ku"
      },
      "source": [
        "##3-shot"
      ]
    },
    {
      "cell_type": "markdown",
      "source": [
        "####Arabic to English"
      ],
      "metadata": {
        "id": "BaFB9rhFaakq"
      }
    },
    {
      "cell_type": "code",
      "source": [
        "GROQ_API_KEY = \"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\"\n",
        "groq_llm = ChatGroq(model_name=\"mixtral-8x7b-32768\", temperature=0,\n",
        "                    api_key=GROQ_API_KEY)\n",
        "\n",
        "examples = create_examples(ar_train_examples, en_train_examples, n=3)\n",
        "\n",
        "system_message = \"ترجم النص المدخل إلى اللغة الإنجليزية. لا تشرح إجابتك!\"\n",
        "user_message_template =\"Text: {text}\"\n",
        "\n",
        "tr_examples = []\n",
        "for i in tqdm(range(len(ar_examples))):\n",
        "    prompt = create_prompt(system_message, examples, user_message_template)\n",
        "    prompt.append({\"role\":\"user\",\n",
        "                   \"content\":user_message_template.format(text=ar_examples[i])})\n",
        "    response = groq_llm.invoke(prompt)\n",
        "    tr_examples.append(response.content.split(\"\\n\")[0])"
      ],
      "metadata": {
        "colab": {
          "base_uri": "https://localhost:8080/"
        },
        "id": "k0a51veRaaSz",
        "outputId": "8306cb32-b414-493c-ee3b-e88d14e708b5"
      },
      "execution_count": 44,
      "outputs": [
        {
          "output_type": "stream",
          "name": "stderr",
          "text": [
            "100%|██████████| 500/500 [39:01<00:00,  4.68s/it]\n"
          ]
        }
      ]
    },
    {
      "cell_type": "code",
      "source": [
        "references = [[sen] for sen in en_examples]\n",
        "candidates = [sen for sen in tr_examples]\n",
        "bleu = corpus_bleu(references, candidates)\n",
        "print(\"BLEU Score:\\t\", round(100*bleu,2))"
      ],
      "metadata": {
        "colab": {
          "base_uri": "https://localhost:8080/"
        },
        "id": "7wHYOAISaaJ5",
        "outputId": "86d02a67-f9ed-4ec9-9301-8f882fdddc20"
      },
      "execution_count": 45,
      "outputs": [
        {
          "output_type": "stream",
          "name": "stdout",
          "text": [
            "BLEU Score:\t 56.48\n"
          ]
        }
      ]
    },
    {
      "cell_type": "code",
      "source": [
        "scorer = BERTScorer(model_type='bert-base-uncased', lang='en')\n",
        "_, _, F1 = scorer.score(tr_examples, en_examples)\n",
        "print(\"BERT Score:\\t\", round(100*F1.mean().item(),2))"
      ],
      "metadata": {
        "colab": {
          "base_uri": "https://localhost:8080/"
        },
        "id": "fxMSUh0OaaCB",
        "outputId": "d99429d9-1788-47ce-dd4e-a967744533bb"
      },
      "execution_count": 46,
      "outputs": [
        {
          "output_type": "stream",
          "name": "stdout",
          "text": [
            "BERT Score:\t 73.81\n"
          ]
        }
      ]
    },
    {
      "cell_type": "markdown",
      "source": [
        "####English to Arabic"
      ],
      "metadata": {
        "id": "VUn3D-v5annC"
      }
    },
    {
      "cell_type": "code",
      "source": [
        "GROQ_API_KEY = \"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\"\n",
        "groq_llm = ChatGroq(model_name=\"mixtral-8x7b-32768\", temperature=0,\n",
        "                    api_key=GROQ_API_KEY)\n",
        "\n",
        "examples = create_examples(ar_train_examples, en_train_examples, ar2en=False,\n",
        "                           n=3)\n",
        "\n",
        "system_message = \"ترجم النص المدخل إلى اللغة العربية. لا تشرح إجابتك!\"\n",
        "user_message_template =\"Text: {text}\"\n",
        "\n",
        "tr_examples = []\n",
        "for i in tqdm(range(len(en_examples))):\n",
        "    prompt = create_prompt(system_message, examples, user_message_template)\n",
        "    prompt.append({\"role\":\"user\",\n",
        "                   \"content\":user_message_template.format(text=en_examples[i])})\n",
        "    response = groq_llm.invoke(prompt)\n",
        "    tr_examples.append(response.content.split(\"\\n\")[0])"
      ],
      "metadata": {
        "colab": {
          "base_uri": "https://localhost:8080/"
        },
        "id": "jCqE5-Uiapkl",
        "outputId": "70c7375a-4620-48cd-98c3-607e38002370"
      },
      "execution_count": 13,
      "outputs": [
        {
          "output_type": "stream",
          "name": "stderr",
          "text": [
            "100%|██████████| 500/500 [36:48<00:00,  4.42s/it]\n"
          ]
        }
      ]
    },
    {
      "cell_type": "code",
      "source": [
        "references = [[sen] for sen in ar_examples]\n",
        "candidates = [sen for sen in tr_examples]\n",
        "bleu = corpus_bleu(references, candidates)\n",
        "print(\"BLEU Score:\\t\", round(100*bleu,2))"
      ],
      "metadata": {
        "colab": {
          "base_uri": "https://localhost:8080/"
        },
        "id": "CKFxIR_Yaqyt",
        "outputId": "231d5de4-afbe-44f5-b004-9702133acf72"
      },
      "execution_count": 14,
      "outputs": [
        {
          "output_type": "stream",
          "name": "stdout",
          "text": [
            "BLEU Score:\t 41.66\n"
          ]
        }
      ]
    },
    {
      "cell_type": "code",
      "source": [
        "scorer = BERTScorer(model_type='bert-base-uncased', lang='ar')\n",
        "_, _, F1 = scorer.score(tr_examples, ar_examples)\n",
        "print(\"BERT Score:\\t\", round(100*F1.mean().item(),2))"
      ],
      "metadata": {
        "colab": {
          "base_uri": "https://localhost:8080/"
        },
        "id": "YPeQw7MMaqmM",
        "outputId": "c4e54618-41f7-4236-96dc-7353bdbe3efc"
      },
      "execution_count": 15,
      "outputs": [
        {
          "output_type": "stream",
          "name": "stdout",
          "text": [
            "BERT Score:\t 79.46\n"
          ]
        }
      ]
    }
  ],
  "metadata": {
    "colab": {
      "collapsed_sections": [
        "kZbA5WuRdvoX",
        "8ieOQL4mBQ3r",
        "EWQuikUlyV4V"
      ],
      "provenance": [],
      "mount_file_id": "1W6FwqnU7iEWjrNIiU9GGlv15-Er_W54A",
      "authorship_tag": "ABX9TyNz4QokhbLCYopwMSIgUefs",
      "include_colab_link": true
    },
    "kernelspec": {
      "display_name": "Python 3",
      "name": "python3"
    },
    "language_info": {
      "name": "python"
    },
    "widgets": {
      "application/vnd.jupyter.widget-state+json": {
        "780cb8dfd728426aad7e5d74c874a6a0": {
          "model_module": "@jupyter-widgets/controls",
          "model_name": "HBoxModel",
          "model_module_version": "1.5.0",
          "state": {
            "_dom_classes": [],
            "_model_module": "@jupyter-widgets/controls",
            "_model_module_version": "1.5.0",
            "_model_name": "HBoxModel",
            "_view_count": null,
            "_view_module": "@jupyter-widgets/controls",
            "_view_module_version": "1.5.0",
            "_view_name": "HBoxView",
            "box_style": "",
            "children": [
              "IPY_MODEL_a728debf25434d4f8f27bfc4edd30f47",
              "IPY_MODEL_912adb329c424b7fa63502df87f5e811",
              "IPY_MODEL_f3529e9925ed4451b8f3abf7e32433de"
            ],
            "layout": "IPY_MODEL_d3904b0982f84eef9fb71a2fd664213f"
          }
        },
        "a728debf25434d4f8f27bfc4edd30f47": {
          "model_module": "@jupyter-widgets/controls",
          "model_name": "HTMLModel",
          "model_module_version": "1.5.0",
          "state": {
            "_dom_classes": [],
            "_model_module": "@jupyter-widgets/controls",
            "_model_module_version": "1.5.0",
            "_model_name": "HTMLModel",
            "_view_count": null,
            "_view_module": "@jupyter-widgets/controls",
            "_view_module_version": "1.5.0",
            "_view_name": "HTMLView",
            "description": "",
            "description_tooltip": null,
            "layout": "IPY_MODEL_f9cdcc675bc64838afda901966c8c4d8",
            "placeholder": "​",
            "style": "IPY_MODEL_5a61279c6525454ca58507497c0a6935",
            "value": "tokenizer_config.json: 100%"
          }
        },
        "912adb329c424b7fa63502df87f5e811": {
          "model_module": "@jupyter-widgets/controls",
          "model_name": "FloatProgressModel",
          "model_module_version": "1.5.0",
          "state": {
            "_dom_classes": [],
            "_model_module": "@jupyter-widgets/controls",
            "_model_module_version": "1.5.0",
            "_model_name": "FloatProgressModel",
            "_view_count": null,
            "_view_module": "@jupyter-widgets/controls",
            "_view_module_version": "1.5.0",
            "_view_name": "ProgressView",
            "bar_style": "success",
            "description": "",
            "description_tooltip": null,
            "layout": "IPY_MODEL_6d026d32655b4053a7d085581eaa874e",
            "max": 48,
            "min": 0,
            "orientation": "horizontal",
            "style": "IPY_MODEL_e0186f957321482489bc5efa5c54c1ef",
            "value": 48
          }
        },
        "f3529e9925ed4451b8f3abf7e32433de": {
          "model_module": "@jupyter-widgets/controls",
          "model_name": "HTMLModel",
          "model_module_version": "1.5.0",
          "state": {
            "_dom_classes": [],
            "_model_module": "@jupyter-widgets/controls",
            "_model_module_version": "1.5.0",
            "_model_name": "HTMLModel",
            "_view_count": null,
            "_view_module": "@jupyter-widgets/controls",
            "_view_module_version": "1.5.0",
            "_view_name": "HTMLView",
            "description": "",
            "description_tooltip": null,
            "layout": "IPY_MODEL_89dd5cba702a4d7f9bd1998883bdcd1a",
            "placeholder": "​",
            "style": "IPY_MODEL_4f44fc2a15334d70b905fd54b47fd644",
            "value": " 48.0/48.0 [00:00&lt;00:00, 1.92kB/s]"
          }
        },
        "d3904b0982f84eef9fb71a2fd664213f": {
          "model_module": "@jupyter-widgets/base",
          "model_name": "LayoutModel",
          "model_module_version": "1.2.0",
          "state": {
            "_model_module": "@jupyter-widgets/base",
            "_model_module_version": "1.2.0",
            "_model_name": "LayoutModel",
            "_view_count": null,
            "_view_module": "@jupyter-widgets/base",
            "_view_module_version": "1.2.0",
            "_view_name": "LayoutView",
            "align_content": null,
            "align_items": null,
            "align_self": null,
            "border": null,
            "bottom": null,
            "display": null,
            "flex": null,
            "flex_flow": null,
            "grid_area": null,
            "grid_auto_columns": null,
            "grid_auto_flow": null,
            "grid_auto_rows": null,
            "grid_column": null,
            "grid_gap": null,
            "grid_row": null,
            "grid_template_areas": null,
            "grid_template_columns": null,
            "grid_template_rows": null,
            "height": null,
            "justify_content": null,
            "justify_items": null,
            "left": null,
            "margin": null,
            "max_height": null,
            "max_width": null,
            "min_height": null,
            "min_width": null,
            "object_fit": null,
            "object_position": null,
            "order": null,
            "overflow": null,
            "overflow_x": null,
            "overflow_y": null,
            "padding": null,
            "right": null,
            "top": null,
            "visibility": null,
            "width": null
          }
        },
        "f9cdcc675bc64838afda901966c8c4d8": {
          "model_module": "@jupyter-widgets/base",
          "model_name": "LayoutModel",
          "model_module_version": "1.2.0",
          "state": {
            "_model_module": "@jupyter-widgets/base",
            "_model_module_version": "1.2.0",
            "_model_name": "LayoutModel",
            "_view_count": null,
            "_view_module": "@jupyter-widgets/base",
            "_view_module_version": "1.2.0",
            "_view_name": "LayoutView",
            "align_content": null,
            "align_items": null,
            "align_self": null,
            "border": null,
            "bottom": null,
            "display": null,
            "flex": null,
            "flex_flow": null,
            "grid_area": null,
            "grid_auto_columns": null,
            "grid_auto_flow": null,
            "grid_auto_rows": null,
            "grid_column": null,
            "grid_gap": null,
            "grid_row": null,
            "grid_template_areas": null,
            "grid_template_columns": null,
            "grid_template_rows": null,
            "height": null,
            "justify_content": null,
            "justify_items": null,
            "left": null,
            "margin": null,
            "max_height": null,
            "max_width": null,
            "min_height": null,
            "min_width": null,
            "object_fit": null,
            "object_position": null,
            "order": null,
            "overflow": null,
            "overflow_x": null,
            "overflow_y": null,
            "padding": null,
            "right": null,
            "top": null,
            "visibility": null,
            "width": null
          }
        },
        "5a61279c6525454ca58507497c0a6935": {
          "model_module": "@jupyter-widgets/controls",
          "model_name": "DescriptionStyleModel",
          "model_module_version": "1.5.0",
          "state": {
            "_model_module": "@jupyter-widgets/controls",
            "_model_module_version": "1.5.0",
            "_model_name": "DescriptionStyleModel",
            "_view_count": null,
            "_view_module": "@jupyter-widgets/base",
            "_view_module_version": "1.2.0",
            "_view_name": "StyleView",
            "description_width": ""
          }
        },
        "6d026d32655b4053a7d085581eaa874e": {
          "model_module": "@jupyter-widgets/base",
          "model_name": "LayoutModel",
          "model_module_version": "1.2.0",
          "state": {
            "_model_module": "@jupyter-widgets/base",
            "_model_module_version": "1.2.0",
            "_model_name": "LayoutModel",
            "_view_count": null,
            "_view_module": "@jupyter-widgets/base",
            "_view_module_version": "1.2.0",
            "_view_name": "LayoutView",
            "align_content": null,
            "align_items": null,
            "align_self": null,
            "border": null,
            "bottom": null,
            "display": null,
            "flex": null,
            "flex_flow": null,
            "grid_area": null,
            "grid_auto_columns": null,
            "grid_auto_flow": null,
            "grid_auto_rows": null,
            "grid_column": null,
            "grid_gap": null,
            "grid_row": null,
            "grid_template_areas": null,
            "grid_template_columns": null,
            "grid_template_rows": null,
            "height": null,
            "justify_content": null,
            "justify_items": null,
            "left": null,
            "margin": null,
            "max_height": null,
            "max_width": null,
            "min_height": null,
            "min_width": null,
            "object_fit": null,
            "object_position": null,
            "order": null,
            "overflow": null,
            "overflow_x": null,
            "overflow_y": null,
            "padding": null,
            "right": null,
            "top": null,
            "visibility": null,
            "width": null
          }
        },
        "e0186f957321482489bc5efa5c54c1ef": {
          "model_module": "@jupyter-widgets/controls",
          "model_name": "ProgressStyleModel",
          "model_module_version": "1.5.0",
          "state": {
            "_model_module": "@jupyter-widgets/controls",
            "_model_module_version": "1.5.0",
            "_model_name": "ProgressStyleModel",
            "_view_count": null,
            "_view_module": "@jupyter-widgets/base",
            "_view_module_version": "1.2.0",
            "_view_name": "StyleView",
            "bar_color": null,
            "description_width": ""
          }
        },
        "89dd5cba702a4d7f9bd1998883bdcd1a": {
          "model_module": "@jupyter-widgets/base",
          "model_name": "LayoutModel",
          "model_module_version": "1.2.0",
          "state": {
            "_model_module": "@jupyter-widgets/base",
            "_model_module_version": "1.2.0",
            "_model_name": "LayoutModel",
            "_view_count": null,
            "_view_module": "@jupyter-widgets/base",
            "_view_module_version": "1.2.0",
            "_view_name": "LayoutView",
            "align_content": null,
            "align_items": null,
            "align_self": null,
            "border": null,
            "bottom": null,
            "display": null,
            "flex": null,
            "flex_flow": null,
            "grid_area": null,
            "grid_auto_columns": null,
            "grid_auto_flow": null,
            "grid_auto_rows": null,
            "grid_column": null,
            "grid_gap": null,
            "grid_row": null,
            "grid_template_areas": null,
            "grid_template_columns": null,
            "grid_template_rows": null,
            "height": null,
            "justify_content": null,
            "justify_items": null,
            "left": null,
            "margin": null,
            "max_height": null,
            "max_width": null,
            "min_height": null,
            "min_width": null,
            "object_fit": null,
            "object_position": null,
            "order": null,
            "overflow": null,
            "overflow_x": null,
            "overflow_y": null,
            "padding": null,
            "right": null,
            "top": null,
            "visibility": null,
            "width": null
          }
        },
        "4f44fc2a15334d70b905fd54b47fd644": {
          "model_module": "@jupyter-widgets/controls",
          "model_name": "DescriptionStyleModel",
          "model_module_version": "1.5.0",
          "state": {
            "_model_module": "@jupyter-widgets/controls",
            "_model_module_version": "1.5.0",
            "_model_name": "DescriptionStyleModel",
            "_view_count": null,
            "_view_module": "@jupyter-widgets/base",
            "_view_module_version": "1.2.0",
            "_view_name": "StyleView",
            "description_width": ""
          }
        },
        "99993701d56341d1b5ab521c3a3a3e8a": {
          "model_module": "@jupyter-widgets/controls",
          "model_name": "HBoxModel",
          "model_module_version": "1.5.0",
          "state": {
            "_dom_classes": [],
            "_model_module": "@jupyter-widgets/controls",
            "_model_module_version": "1.5.0",
            "_model_name": "HBoxModel",
            "_view_count": null,
            "_view_module": "@jupyter-widgets/controls",
            "_view_module_version": "1.5.0",
            "_view_name": "HBoxView",
            "box_style": "",
            "children": [
              "IPY_MODEL_2c2781e338ec4810bacc9b09f787451c",
              "IPY_MODEL_58ba39b6ba944cf8930217af4cad7a77",
              "IPY_MODEL_60f12f37cfda46ecac2729e3155277b8"
            ],
            "layout": "IPY_MODEL_ed431c731c1e4b7eb191d36d501ab929"
          }
        },
        "2c2781e338ec4810bacc9b09f787451c": {
          "model_module": "@jupyter-widgets/controls",
          "model_name": "HTMLModel",
          "model_module_version": "1.5.0",
          "state": {
            "_dom_classes": [],
            "_model_module": "@jupyter-widgets/controls",
            "_model_module_version": "1.5.0",
            "_model_name": "HTMLModel",
            "_view_count": null,
            "_view_module": "@jupyter-widgets/controls",
            "_view_module_version": "1.5.0",
            "_view_name": "HTMLView",
            "description": "",
            "description_tooltip": null,
            "layout": "IPY_MODEL_b049b70b26184d4a892c488f04d69111",
            "placeholder": "​",
            "style": "IPY_MODEL_c1fb4b4fffe94363ba01af1b90bd5f90",
            "value": "config.json: 100%"
          }
        },
        "58ba39b6ba944cf8930217af4cad7a77": {
          "model_module": "@jupyter-widgets/controls",
          "model_name": "FloatProgressModel",
          "model_module_version": "1.5.0",
          "state": {
            "_dom_classes": [],
            "_model_module": "@jupyter-widgets/controls",
            "_model_module_version": "1.5.0",
            "_model_name": "FloatProgressModel",
            "_view_count": null,
            "_view_module": "@jupyter-widgets/controls",
            "_view_module_version": "1.5.0",
            "_view_name": "ProgressView",
            "bar_style": "success",
            "description": "",
            "description_tooltip": null,
            "layout": "IPY_MODEL_aee6ea2ab61049b29fe93d263f610ba2",
            "max": 570,
            "min": 0,
            "orientation": "horizontal",
            "style": "IPY_MODEL_df764684fa8f46feb8581f5180a46957",
            "value": 570
          }
        },
        "60f12f37cfda46ecac2729e3155277b8": {
          "model_module": "@jupyter-widgets/controls",
          "model_name": "HTMLModel",
          "model_module_version": "1.5.0",
          "state": {
            "_dom_classes": [],
            "_model_module": "@jupyter-widgets/controls",
            "_model_module_version": "1.5.0",
            "_model_name": "HTMLModel",
            "_view_count": null,
            "_view_module": "@jupyter-widgets/controls",
            "_view_module_version": "1.5.0",
            "_view_name": "HTMLView",
            "description": "",
            "description_tooltip": null,
            "layout": "IPY_MODEL_d23b7d67c3d642129eabc27239130a88",
            "placeholder": "​",
            "style": "IPY_MODEL_7fe127bfadf042fabed49a91deb85d08",
            "value": " 570/570 [00:00&lt;00:00, 32.1kB/s]"
          }
        },
        "ed431c731c1e4b7eb191d36d501ab929": {
          "model_module": "@jupyter-widgets/base",
          "model_name": "LayoutModel",
          "model_module_version": "1.2.0",
          "state": {
            "_model_module": "@jupyter-widgets/base",
            "_model_module_version": "1.2.0",
            "_model_name": "LayoutModel",
            "_view_count": null,
            "_view_module": "@jupyter-widgets/base",
            "_view_module_version": "1.2.0",
            "_view_name": "LayoutView",
            "align_content": null,
            "align_items": null,
            "align_self": null,
            "border": null,
            "bottom": null,
            "display": null,
            "flex": null,
            "flex_flow": null,
            "grid_area": null,
            "grid_auto_columns": null,
            "grid_auto_flow": null,
            "grid_auto_rows": null,
            "grid_column": null,
            "grid_gap": null,
            "grid_row": null,
            "grid_template_areas": null,
            "grid_template_columns": null,
            "grid_template_rows": null,
            "height": null,
            "justify_content": null,
            "justify_items": null,
            "left": null,
            "margin": null,
            "max_height": null,
            "max_width": null,
            "min_height": null,
            "min_width": null,
            "object_fit": null,
            "object_position": null,
            "order": null,
            "overflow": null,
            "overflow_x": null,
            "overflow_y": null,
            "padding": null,
            "right": null,
            "top": null,
            "visibility": null,
            "width": null
          }
        },
        "b049b70b26184d4a892c488f04d69111": {
          "model_module": "@jupyter-widgets/base",
          "model_name": "LayoutModel",
          "model_module_version": "1.2.0",
          "state": {
            "_model_module": "@jupyter-widgets/base",
            "_model_module_version": "1.2.0",
            "_model_name": "LayoutModel",
            "_view_count": null,
            "_view_module": "@jupyter-widgets/base",
            "_view_module_version": "1.2.0",
            "_view_name": "LayoutView",
            "align_content": null,
            "align_items": null,
            "align_self": null,
            "border": null,
            "bottom": null,
            "display": null,
            "flex": null,
            "flex_flow": null,
            "grid_area": null,
            "grid_auto_columns": null,
            "grid_auto_flow": null,
            "grid_auto_rows": null,
            "grid_column": null,
            "grid_gap": null,
            "grid_row": null,
            "grid_template_areas": null,
            "grid_template_columns": null,
            "grid_template_rows": null,
            "height": null,
            "justify_content": null,
            "justify_items": null,
            "left": null,
            "margin": null,
            "max_height": null,
            "max_width": null,
            "min_height": null,
            "min_width": null,
            "object_fit": null,
            "object_position": null,
            "order": null,
            "overflow": null,
            "overflow_x": null,
            "overflow_y": null,
            "padding": null,
            "right": null,
            "top": null,
            "visibility": null,
            "width": null
          }
        },
        "c1fb4b4fffe94363ba01af1b90bd5f90": {
          "model_module": "@jupyter-widgets/controls",
          "model_name": "DescriptionStyleModel",
          "model_module_version": "1.5.0",
          "state": {
            "_model_module": "@jupyter-widgets/controls",
            "_model_module_version": "1.5.0",
            "_model_name": "DescriptionStyleModel",
            "_view_count": null,
            "_view_module": "@jupyter-widgets/base",
            "_view_module_version": "1.2.0",
            "_view_name": "StyleView",
            "description_width": ""
          }
        },
        "aee6ea2ab61049b29fe93d263f610ba2": {
          "model_module": "@jupyter-widgets/base",
          "model_name": "LayoutModel",
          "model_module_version": "1.2.0",
          "state": {
            "_model_module": "@jupyter-widgets/base",
            "_model_module_version": "1.2.0",
            "_model_name": "LayoutModel",
            "_view_count": null,
            "_view_module": "@jupyter-widgets/base",
            "_view_module_version": "1.2.0",
            "_view_name": "LayoutView",
            "align_content": null,
            "align_items": null,
            "align_self": null,
            "border": null,
            "bottom": null,
            "display": null,
            "flex": null,
            "flex_flow": null,
            "grid_area": null,
            "grid_auto_columns": null,
            "grid_auto_flow": null,
            "grid_auto_rows": null,
            "grid_column": null,
            "grid_gap": null,
            "grid_row": null,
            "grid_template_areas": null,
            "grid_template_columns": null,
            "grid_template_rows": null,
            "height": null,
            "justify_content": null,
            "justify_items": null,
            "left": null,
            "margin": null,
            "max_height": null,
            "max_width": null,
            "min_height": null,
            "min_width": null,
            "object_fit": null,
            "object_position": null,
            "order": null,
            "overflow": null,
            "overflow_x": null,
            "overflow_y": null,
            "padding": null,
            "right": null,
            "top": null,
            "visibility": null,
            "width": null
          }
        },
        "df764684fa8f46feb8581f5180a46957": {
          "model_module": "@jupyter-widgets/controls",
          "model_name": "ProgressStyleModel",
          "model_module_version": "1.5.0",
          "state": {
            "_model_module": "@jupyter-widgets/controls",
            "_model_module_version": "1.5.0",
            "_model_name": "ProgressStyleModel",
            "_view_count": null,
            "_view_module": "@jupyter-widgets/base",
            "_view_module_version": "1.2.0",
            "_view_name": "StyleView",
            "bar_color": null,
            "description_width": ""
          }
        },
        "d23b7d67c3d642129eabc27239130a88": {
          "model_module": "@jupyter-widgets/base",
          "model_name": "LayoutModel",
          "model_module_version": "1.2.0",
          "state": {
            "_model_module": "@jupyter-widgets/base",
            "_model_module_version": "1.2.0",
            "_model_name": "LayoutModel",
            "_view_count": null,
            "_view_module": "@jupyter-widgets/base",
            "_view_module_version": "1.2.0",
            "_view_name": "LayoutView",
            "align_content": null,
            "align_items": null,
            "align_self": null,
            "border": null,
            "bottom": null,
            "display": null,
            "flex": null,
            "flex_flow": null,
            "grid_area": null,
            "grid_auto_columns": null,
            "grid_auto_flow": null,
            "grid_auto_rows": null,
            "grid_column": null,
            "grid_gap": null,
            "grid_row": null,
            "grid_template_areas": null,
            "grid_template_columns": null,
            "grid_template_rows": null,
            "height": null,
            "justify_content": null,
            "justify_items": null,
            "left": null,
            "margin": null,
            "max_height": null,
            "max_width": null,
            "min_height": null,
            "min_width": null,
            "object_fit": null,
            "object_position": null,
            "order": null,
            "overflow": null,
            "overflow_x": null,
            "overflow_y": null,
            "padding": null,
            "right": null,
            "top": null,
            "visibility": null,
            "width": null
          }
        },
        "7fe127bfadf042fabed49a91deb85d08": {
          "model_module": "@jupyter-widgets/controls",
          "model_name": "DescriptionStyleModel",
          "model_module_version": "1.5.0",
          "state": {
            "_model_module": "@jupyter-widgets/controls",
            "_model_module_version": "1.5.0",
            "_model_name": "DescriptionStyleModel",
            "_view_count": null,
            "_view_module": "@jupyter-widgets/base",
            "_view_module_version": "1.2.0",
            "_view_name": "StyleView",
            "description_width": ""
          }
        },
        "9c4bf797d8cc40dca87cd8f8f4609423": {
          "model_module": "@jupyter-widgets/controls",
          "model_name": "HBoxModel",
          "model_module_version": "1.5.0",
          "state": {
            "_dom_classes": [],
            "_model_module": "@jupyter-widgets/controls",
            "_model_module_version": "1.5.0",
            "_model_name": "HBoxModel",
            "_view_count": null,
            "_view_module": "@jupyter-widgets/controls",
            "_view_module_version": "1.5.0",
            "_view_name": "HBoxView",
            "box_style": "",
            "children": [
              "IPY_MODEL_0b60cb746b8d4f2d82a4ac8b05425716",
              "IPY_MODEL_7514c913d0634cc9affa7a381bcc4aaa",
              "IPY_MODEL_89790820c3ec4d9996eba377753d327a"
            ],
            "layout": "IPY_MODEL_b53b2b98a54e43fb92330ce9ede7880d"
          }
        },
        "0b60cb746b8d4f2d82a4ac8b05425716": {
          "model_module": "@jupyter-widgets/controls",
          "model_name": "HTMLModel",
          "model_module_version": "1.5.0",
          "state": {
            "_dom_classes": [],
            "_model_module": "@jupyter-widgets/controls",
            "_model_module_version": "1.5.0",
            "_model_name": "HTMLModel",
            "_view_count": null,
            "_view_module": "@jupyter-widgets/controls",
            "_view_module_version": "1.5.0",
            "_view_name": "HTMLView",
            "description": "",
            "description_tooltip": null,
            "layout": "IPY_MODEL_74d8a0fae9474f548dadfb7dc5d23345",
            "placeholder": "​",
            "style": "IPY_MODEL_adde5f8ff1a6445c8759d727fb867674",
            "value": "vocab.txt: 100%"
          }
        },
        "7514c913d0634cc9affa7a381bcc4aaa": {
          "model_module": "@jupyter-widgets/controls",
          "model_name": "FloatProgressModel",
          "model_module_version": "1.5.0",
          "state": {
            "_dom_classes": [],
            "_model_module": "@jupyter-widgets/controls",
            "_model_module_version": "1.5.0",
            "_model_name": "FloatProgressModel",
            "_view_count": null,
            "_view_module": "@jupyter-widgets/controls",
            "_view_module_version": "1.5.0",
            "_view_name": "ProgressView",
            "bar_style": "success",
            "description": "",
            "description_tooltip": null,
            "layout": "IPY_MODEL_232f970ef91b4c15a6396093db1fbb29",
            "max": 231508,
            "min": 0,
            "orientation": "horizontal",
            "style": "IPY_MODEL_e22e2583436a48249c29c90c17e303ee",
            "value": 231508
          }
        },
        "89790820c3ec4d9996eba377753d327a": {
          "model_module": "@jupyter-widgets/controls",
          "model_name": "HTMLModel",
          "model_module_version": "1.5.0",
          "state": {
            "_dom_classes": [],
            "_model_module": "@jupyter-widgets/controls",
            "_model_module_version": "1.5.0",
            "_model_name": "HTMLModel",
            "_view_count": null,
            "_view_module": "@jupyter-widgets/controls",
            "_view_module_version": "1.5.0",
            "_view_name": "HTMLView",
            "description": "",
            "description_tooltip": null,
            "layout": "IPY_MODEL_b90fdf4312154ab0bedfd82801a1049e",
            "placeholder": "​",
            "style": "IPY_MODEL_7945a4dcfe574edab753afa8cb69eb3f",
            "value": " 232k/232k [00:00&lt;00:00, 2.99MB/s]"
          }
        },
        "b53b2b98a54e43fb92330ce9ede7880d": {
          "model_module": "@jupyter-widgets/base",
          "model_name": "LayoutModel",
          "model_module_version": "1.2.0",
          "state": {
            "_model_module": "@jupyter-widgets/base",
            "_model_module_version": "1.2.0",
            "_model_name": "LayoutModel",
            "_view_count": null,
            "_view_module": "@jupyter-widgets/base",
            "_view_module_version": "1.2.0",
            "_view_name": "LayoutView",
            "align_content": null,
            "align_items": null,
            "align_self": null,
            "border": null,
            "bottom": null,
            "display": null,
            "flex": null,
            "flex_flow": null,
            "grid_area": null,
            "grid_auto_columns": null,
            "grid_auto_flow": null,
            "grid_auto_rows": null,
            "grid_column": null,
            "grid_gap": null,
            "grid_row": null,
            "grid_template_areas": null,
            "grid_template_columns": null,
            "grid_template_rows": null,
            "height": null,
            "justify_content": null,
            "justify_items": null,
            "left": null,
            "margin": null,
            "max_height": null,
            "max_width": null,
            "min_height": null,
            "min_width": null,
            "object_fit": null,
            "object_position": null,
            "order": null,
            "overflow": null,
            "overflow_x": null,
            "overflow_y": null,
            "padding": null,
            "right": null,
            "top": null,
            "visibility": null,
            "width": null
          }
        },
        "74d8a0fae9474f548dadfb7dc5d23345": {
          "model_module": "@jupyter-widgets/base",
          "model_name": "LayoutModel",
          "model_module_version": "1.2.0",
          "state": {
            "_model_module": "@jupyter-widgets/base",
            "_model_module_version": "1.2.0",
            "_model_name": "LayoutModel",
            "_view_count": null,
            "_view_module": "@jupyter-widgets/base",
            "_view_module_version": "1.2.0",
            "_view_name": "LayoutView",
            "align_content": null,
            "align_items": null,
            "align_self": null,
            "border": null,
            "bottom": null,
            "display": null,
            "flex": null,
            "flex_flow": null,
            "grid_area": null,
            "grid_auto_columns": null,
            "grid_auto_flow": null,
            "grid_auto_rows": null,
            "grid_column": null,
            "grid_gap": null,
            "grid_row": null,
            "grid_template_areas": null,
            "grid_template_columns": null,
            "grid_template_rows": null,
            "height": null,
            "justify_content": null,
            "justify_items": null,
            "left": null,
            "margin": null,
            "max_height": null,
            "max_width": null,
            "min_height": null,
            "min_width": null,
            "object_fit": null,
            "object_position": null,
            "order": null,
            "overflow": null,
            "overflow_x": null,
            "overflow_y": null,
            "padding": null,
            "right": null,
            "top": null,
            "visibility": null,
            "width": null
          }
        },
        "adde5f8ff1a6445c8759d727fb867674": {
          "model_module": "@jupyter-widgets/controls",
          "model_name": "DescriptionStyleModel",
          "model_module_version": "1.5.0",
          "state": {
            "_model_module": "@jupyter-widgets/controls",
            "_model_module_version": "1.5.0",
            "_model_name": "DescriptionStyleModel",
            "_view_count": null,
            "_view_module": "@jupyter-widgets/base",
            "_view_module_version": "1.2.0",
            "_view_name": "StyleView",
            "description_width": ""
          }
        },
        "232f970ef91b4c15a6396093db1fbb29": {
          "model_module": "@jupyter-widgets/base",
          "model_name": "LayoutModel",
          "model_module_version": "1.2.0",
          "state": {
            "_model_module": "@jupyter-widgets/base",
            "_model_module_version": "1.2.0",
            "_model_name": "LayoutModel",
            "_view_count": null,
            "_view_module": "@jupyter-widgets/base",
            "_view_module_version": "1.2.0",
            "_view_name": "LayoutView",
            "align_content": null,
            "align_items": null,
            "align_self": null,
            "border": null,
            "bottom": null,
            "display": null,
            "flex": null,
            "flex_flow": null,
            "grid_area": null,
            "grid_auto_columns": null,
            "grid_auto_flow": null,
            "grid_auto_rows": null,
            "grid_column": null,
            "grid_gap": null,
            "grid_row": null,
            "grid_template_areas": null,
            "grid_template_columns": null,
            "grid_template_rows": null,
            "height": null,
            "justify_content": null,
            "justify_items": null,
            "left": null,
            "margin": null,
            "max_height": null,
            "max_width": null,
            "min_height": null,
            "min_width": null,
            "object_fit": null,
            "object_position": null,
            "order": null,
            "overflow": null,
            "overflow_x": null,
            "overflow_y": null,
            "padding": null,
            "right": null,
            "top": null,
            "visibility": null,
            "width": null
          }
        },
        "e22e2583436a48249c29c90c17e303ee": {
          "model_module": "@jupyter-widgets/controls",
          "model_name": "ProgressStyleModel",
          "model_module_version": "1.5.0",
          "state": {
            "_model_module": "@jupyter-widgets/controls",
            "_model_module_version": "1.5.0",
            "_model_name": "ProgressStyleModel",
            "_view_count": null,
            "_view_module": "@jupyter-widgets/base",
            "_view_module_version": "1.2.0",
            "_view_name": "StyleView",
            "bar_color": null,
            "description_width": ""
          }
        },
        "b90fdf4312154ab0bedfd82801a1049e": {
          "model_module": "@jupyter-widgets/base",
          "model_name": "LayoutModel",
          "model_module_version": "1.2.0",
          "state": {
            "_model_module": "@jupyter-widgets/base",
            "_model_module_version": "1.2.0",
            "_model_name": "LayoutModel",
            "_view_count": null,
            "_view_module": "@jupyter-widgets/base",
            "_view_module_version": "1.2.0",
            "_view_name": "LayoutView",
            "align_content": null,
            "align_items": null,
            "align_self": null,
            "border": null,
            "bottom": null,
            "display": null,
            "flex": null,
            "flex_flow": null,
            "grid_area": null,
            "grid_auto_columns": null,
            "grid_auto_flow": null,
            "grid_auto_rows": null,
            "grid_column": null,
            "grid_gap": null,
            "grid_row": null,
            "grid_template_areas": null,
            "grid_template_columns": null,
            "grid_template_rows": null,
            "height": null,
            "justify_content": null,
            "justify_items": null,
            "left": null,
            "margin": null,
            "max_height": null,
            "max_width": null,
            "min_height": null,
            "min_width": null,
            "object_fit": null,
            "object_position": null,
            "order": null,
            "overflow": null,
            "overflow_x": null,
            "overflow_y": null,
            "padding": null,
            "right": null,
            "top": null,
            "visibility": null,
            "width": null
          }
        },
        "7945a4dcfe574edab753afa8cb69eb3f": {
          "model_module": "@jupyter-widgets/controls",
          "model_name": "DescriptionStyleModel",
          "model_module_version": "1.5.0",
          "state": {
            "_model_module": "@jupyter-widgets/controls",
            "_model_module_version": "1.5.0",
            "_model_name": "DescriptionStyleModel",
            "_view_count": null,
            "_view_module": "@jupyter-widgets/base",
            "_view_module_version": "1.2.0",
            "_view_name": "StyleView",
            "description_width": ""
          }
        },
        "961303cf1c774689a7d6be80c7a599d1": {
          "model_module": "@jupyter-widgets/controls",
          "model_name": "HBoxModel",
          "model_module_version": "1.5.0",
          "state": {
            "_dom_classes": [],
            "_model_module": "@jupyter-widgets/controls",
            "_model_module_version": "1.5.0",
            "_model_name": "HBoxModel",
            "_view_count": null,
            "_view_module": "@jupyter-widgets/controls",
            "_view_module_version": "1.5.0",
            "_view_name": "HBoxView",
            "box_style": "",
            "children": [
              "IPY_MODEL_b16e1020da99491883a7e25d96e59cce",
              "IPY_MODEL_f66d78df2b194af0bd613d7e0497eaca",
              "IPY_MODEL_396c1e7f13ea469eab982691d4c56a45"
            ],
            "layout": "IPY_MODEL_2887f26b9f384d9b812ec58c2a34bcda"
          }
        },
        "b16e1020da99491883a7e25d96e59cce": {
          "model_module": "@jupyter-widgets/controls",
          "model_name": "HTMLModel",
          "model_module_version": "1.5.0",
          "state": {
            "_dom_classes": [],
            "_model_module": "@jupyter-widgets/controls",
            "_model_module_version": "1.5.0",
            "_model_name": "HTMLModel",
            "_view_count": null,
            "_view_module": "@jupyter-widgets/controls",
            "_view_module_version": "1.5.0",
            "_view_name": "HTMLView",
            "description": "",
            "description_tooltip": null,
            "layout": "IPY_MODEL_9973498e729748f9bb6ea8014f019164",
            "placeholder": "​",
            "style": "IPY_MODEL_4ca686e8bcb541f2a0938d770fd2c954",
            "value": "tokenizer.json: 100%"
          }
        },
        "f66d78df2b194af0bd613d7e0497eaca": {
          "model_module": "@jupyter-widgets/controls",
          "model_name": "FloatProgressModel",
          "model_module_version": "1.5.0",
          "state": {
            "_dom_classes": [],
            "_model_module": "@jupyter-widgets/controls",
            "_model_module_version": "1.5.0",
            "_model_name": "FloatProgressModel",
            "_view_count": null,
            "_view_module": "@jupyter-widgets/controls",
            "_view_module_version": "1.5.0",
            "_view_name": "ProgressView",
            "bar_style": "success",
            "description": "",
            "description_tooltip": null,
            "layout": "IPY_MODEL_46a0e5633e6e43a4a8a824150b6c2240",
            "max": 466062,
            "min": 0,
            "orientation": "horizontal",
            "style": "IPY_MODEL_3b7f200ef1204639972ab696a1230be6",
            "value": 466062
          }
        },
        "396c1e7f13ea469eab982691d4c56a45": {
          "model_module": "@jupyter-widgets/controls",
          "model_name": "HTMLModel",
          "model_module_version": "1.5.0",
          "state": {
            "_dom_classes": [],
            "_model_module": "@jupyter-widgets/controls",
            "_model_module_version": "1.5.0",
            "_model_name": "HTMLModel",
            "_view_count": null,
            "_view_module": "@jupyter-widgets/controls",
            "_view_module_version": "1.5.0",
            "_view_name": "HTMLView",
            "description": "",
            "description_tooltip": null,
            "layout": "IPY_MODEL_6554cf7f28c7452c84d7c28190d64ad7",
            "placeholder": "​",
            "style": "IPY_MODEL_a9e998e9bc2e4ba7af897acbbfd17b82",
            "value": " 466k/466k [00:00&lt;00:00, 7.61MB/s]"
          }
        },
        "2887f26b9f384d9b812ec58c2a34bcda": {
          "model_module": "@jupyter-widgets/base",
          "model_name": "LayoutModel",
          "model_module_version": "1.2.0",
          "state": {
            "_model_module": "@jupyter-widgets/base",
            "_model_module_version": "1.2.0",
            "_model_name": "LayoutModel",
            "_view_count": null,
            "_view_module": "@jupyter-widgets/base",
            "_view_module_version": "1.2.0",
            "_view_name": "LayoutView",
            "align_content": null,
            "align_items": null,
            "align_self": null,
            "border": null,
            "bottom": null,
            "display": null,
            "flex": null,
            "flex_flow": null,
            "grid_area": null,
            "grid_auto_columns": null,
            "grid_auto_flow": null,
            "grid_auto_rows": null,
            "grid_column": null,
            "grid_gap": null,
            "grid_row": null,
            "grid_template_areas": null,
            "grid_template_columns": null,
            "grid_template_rows": null,
            "height": null,
            "justify_content": null,
            "justify_items": null,
            "left": null,
            "margin": null,
            "max_height": null,
            "max_width": null,
            "min_height": null,
            "min_width": null,
            "object_fit": null,
            "object_position": null,
            "order": null,
            "overflow": null,
            "overflow_x": null,
            "overflow_y": null,
            "padding": null,
            "right": null,
            "top": null,
            "visibility": null,
            "width": null
          }
        },
        "9973498e729748f9bb6ea8014f019164": {
          "model_module": "@jupyter-widgets/base",
          "model_name": "LayoutModel",
          "model_module_version": "1.2.0",
          "state": {
            "_model_module": "@jupyter-widgets/base",
            "_model_module_version": "1.2.0",
            "_model_name": "LayoutModel",
            "_view_count": null,
            "_view_module": "@jupyter-widgets/base",
            "_view_module_version": "1.2.0",
            "_view_name": "LayoutView",
            "align_content": null,
            "align_items": null,
            "align_self": null,
            "border": null,
            "bottom": null,
            "display": null,
            "flex": null,
            "flex_flow": null,
            "grid_area": null,
            "grid_auto_columns": null,
            "grid_auto_flow": null,
            "grid_auto_rows": null,
            "grid_column": null,
            "grid_gap": null,
            "grid_row": null,
            "grid_template_areas": null,
            "grid_template_columns": null,
            "grid_template_rows": null,
            "height": null,
            "justify_content": null,
            "justify_items": null,
            "left": null,
            "margin": null,
            "max_height": null,
            "max_width": null,
            "min_height": null,
            "min_width": null,
            "object_fit": null,
            "object_position": null,
            "order": null,
            "overflow": null,
            "overflow_x": null,
            "overflow_y": null,
            "padding": null,
            "right": null,
            "top": null,
            "visibility": null,
            "width": null
          }
        },
        "4ca686e8bcb541f2a0938d770fd2c954": {
          "model_module": "@jupyter-widgets/controls",
          "model_name": "DescriptionStyleModel",
          "model_module_version": "1.5.0",
          "state": {
            "_model_module": "@jupyter-widgets/controls",
            "_model_module_version": "1.5.0",
            "_model_name": "DescriptionStyleModel",
            "_view_count": null,
            "_view_module": "@jupyter-widgets/base",
            "_view_module_version": "1.2.0",
            "_view_name": "StyleView",
            "description_width": ""
          }
        },
        "46a0e5633e6e43a4a8a824150b6c2240": {
          "model_module": "@jupyter-widgets/base",
          "model_name": "LayoutModel",
          "model_module_version": "1.2.0",
          "state": {
            "_model_module": "@jupyter-widgets/base",
            "_model_module_version": "1.2.0",
            "_model_name": "LayoutModel",
            "_view_count": null,
            "_view_module": "@jupyter-widgets/base",
            "_view_module_version": "1.2.0",
            "_view_name": "LayoutView",
            "align_content": null,
            "align_items": null,
            "align_self": null,
            "border": null,
            "bottom": null,
            "display": null,
            "flex": null,
            "flex_flow": null,
            "grid_area": null,
            "grid_auto_columns": null,
            "grid_auto_flow": null,
            "grid_auto_rows": null,
            "grid_column": null,
            "grid_gap": null,
            "grid_row": null,
            "grid_template_areas": null,
            "grid_template_columns": null,
            "grid_template_rows": null,
            "height": null,
            "justify_content": null,
            "justify_items": null,
            "left": null,
            "margin": null,
            "max_height": null,
            "max_width": null,
            "min_height": null,
            "min_width": null,
            "object_fit": null,
            "object_position": null,
            "order": null,
            "overflow": null,
            "overflow_x": null,
            "overflow_y": null,
            "padding": null,
            "right": null,
            "top": null,
            "visibility": null,
            "width": null
          }
        },
        "3b7f200ef1204639972ab696a1230be6": {
          "model_module": "@jupyter-widgets/controls",
          "model_name": "ProgressStyleModel",
          "model_module_version": "1.5.0",
          "state": {
            "_model_module": "@jupyter-widgets/controls",
            "_model_module_version": "1.5.0",
            "_model_name": "ProgressStyleModel",
            "_view_count": null,
            "_view_module": "@jupyter-widgets/base",
            "_view_module_version": "1.2.0",
            "_view_name": "StyleView",
            "bar_color": null,
            "description_width": ""
          }
        },
        "6554cf7f28c7452c84d7c28190d64ad7": {
          "model_module": "@jupyter-widgets/base",
          "model_name": "LayoutModel",
          "model_module_version": "1.2.0",
          "state": {
            "_model_module": "@jupyter-widgets/base",
            "_model_module_version": "1.2.0",
            "_model_name": "LayoutModel",
            "_view_count": null,
            "_view_module": "@jupyter-widgets/base",
            "_view_module_version": "1.2.0",
            "_view_name": "LayoutView",
            "align_content": null,
            "align_items": null,
            "align_self": null,
            "border": null,
            "bottom": null,
            "display": null,
            "flex": null,
            "flex_flow": null,
            "grid_area": null,
            "grid_auto_columns": null,
            "grid_auto_flow": null,
            "grid_auto_rows": null,
            "grid_column": null,
            "grid_gap": null,
            "grid_row": null,
            "grid_template_areas": null,
            "grid_template_columns": null,
            "grid_template_rows": null,
            "height": null,
            "justify_content": null,
            "justify_items": null,
            "left": null,
            "margin": null,
            "max_height": null,
            "max_width": null,
            "min_height": null,
            "min_width": null,
            "object_fit": null,
            "object_position": null,
            "order": null,
            "overflow": null,
            "overflow_x": null,
            "overflow_y": null,
            "padding": null,
            "right": null,
            "top": null,
            "visibility": null,
            "width": null
          }
        },
        "a9e998e9bc2e4ba7af897acbbfd17b82": {
          "model_module": "@jupyter-widgets/controls",
          "model_name": "DescriptionStyleModel",
          "model_module_version": "1.5.0",
          "state": {
            "_model_module": "@jupyter-widgets/controls",
            "_model_module_version": "1.5.0",
            "_model_name": "DescriptionStyleModel",
            "_view_count": null,
            "_view_module": "@jupyter-widgets/base",
            "_view_module_version": "1.2.0",
            "_view_name": "StyleView",
            "description_width": ""
          }
        },
        "725be8c0b49b477fa9fbfb9d0829c1e2": {
          "model_module": "@jupyter-widgets/controls",
          "model_name": "HBoxModel",
          "model_module_version": "1.5.0",
          "state": {
            "_dom_classes": [],
            "_model_module": "@jupyter-widgets/controls",
            "_model_module_version": "1.5.0",
            "_model_name": "HBoxModel",
            "_view_count": null,
            "_view_module": "@jupyter-widgets/controls",
            "_view_module_version": "1.5.0",
            "_view_name": "HBoxView",
            "box_style": "",
            "children": [
              "IPY_MODEL_14372969606849d6bd853431596cece8",
              "IPY_MODEL_5c0d96ca38f84ca1809275fdac2baf63",
              "IPY_MODEL_315e04b29742406882baaf8cbf55463a"
            ],
            "layout": "IPY_MODEL_93dc261cd9084ca8838d2567ac58e820"
          }
        },
        "14372969606849d6bd853431596cece8": {
          "model_module": "@jupyter-widgets/controls",
          "model_name": "HTMLModel",
          "model_module_version": "1.5.0",
          "state": {
            "_dom_classes": [],
            "_model_module": "@jupyter-widgets/controls",
            "_model_module_version": "1.5.0",
            "_model_name": "HTMLModel",
            "_view_count": null,
            "_view_module": "@jupyter-widgets/controls",
            "_view_module_version": "1.5.0",
            "_view_name": "HTMLView",
            "description": "",
            "description_tooltip": null,
            "layout": "IPY_MODEL_7c4a6647c38c46a19e6407120bb3adb1",
            "placeholder": "​",
            "style": "IPY_MODEL_99ce57fed0194264a3b951d1bb3c95df",
            "value": "model.safetensors: 100%"
          }
        },
        "5c0d96ca38f84ca1809275fdac2baf63": {
          "model_module": "@jupyter-widgets/controls",
          "model_name": "FloatProgressModel",
          "model_module_version": "1.5.0",
          "state": {
            "_dom_classes": [],
            "_model_module": "@jupyter-widgets/controls",
            "_model_module_version": "1.5.0",
            "_model_name": "FloatProgressModel",
            "_view_count": null,
            "_view_module": "@jupyter-widgets/controls",
            "_view_module_version": "1.5.0",
            "_view_name": "ProgressView",
            "bar_style": "success",
            "description": "",
            "description_tooltip": null,
            "layout": "IPY_MODEL_3625eb14f11646be99cdc98189efad30",
            "max": 440449768,
            "min": 0,
            "orientation": "horizontal",
            "style": "IPY_MODEL_218b36707d324a419be66fab8d547aed",
            "value": 440449768
          }
        },
        "315e04b29742406882baaf8cbf55463a": {
          "model_module": "@jupyter-widgets/controls",
          "model_name": "HTMLModel",
          "model_module_version": "1.5.0",
          "state": {
            "_dom_classes": [],
            "_model_module": "@jupyter-widgets/controls",
            "_model_module_version": "1.5.0",
            "_model_name": "HTMLModel",
            "_view_count": null,
            "_view_module": "@jupyter-widgets/controls",
            "_view_module_version": "1.5.0",
            "_view_name": "HTMLView",
            "description": "",
            "description_tooltip": null,
            "layout": "IPY_MODEL_4430c67c9c92475281d239dceb49db4b",
            "placeholder": "​",
            "style": "IPY_MODEL_51cb61dcd33d4ae3ba91f33cbc471e7b",
            "value": " 440M/440M [00:07&lt;00:00, 32.1MB/s]"
          }
        },
        "93dc261cd9084ca8838d2567ac58e820": {
          "model_module": "@jupyter-widgets/base",
          "model_name": "LayoutModel",
          "model_module_version": "1.2.0",
          "state": {
            "_model_module": "@jupyter-widgets/base",
            "_model_module_version": "1.2.0",
            "_model_name": "LayoutModel",
            "_view_count": null,
            "_view_module": "@jupyter-widgets/base",
            "_view_module_version": "1.2.0",
            "_view_name": "LayoutView",
            "align_content": null,
            "align_items": null,
            "align_self": null,
            "border": null,
            "bottom": null,
            "display": null,
            "flex": null,
            "flex_flow": null,
            "grid_area": null,
            "grid_auto_columns": null,
            "grid_auto_flow": null,
            "grid_auto_rows": null,
            "grid_column": null,
            "grid_gap": null,
            "grid_row": null,
            "grid_template_areas": null,
            "grid_template_columns": null,
            "grid_template_rows": null,
            "height": null,
            "justify_content": null,
            "justify_items": null,
            "left": null,
            "margin": null,
            "max_height": null,
            "max_width": null,
            "min_height": null,
            "min_width": null,
            "object_fit": null,
            "object_position": null,
            "order": null,
            "overflow": null,
            "overflow_x": null,
            "overflow_y": null,
            "padding": null,
            "right": null,
            "top": null,
            "visibility": null,
            "width": null
          }
        },
        "7c4a6647c38c46a19e6407120bb3adb1": {
          "model_module": "@jupyter-widgets/base",
          "model_name": "LayoutModel",
          "model_module_version": "1.2.0",
          "state": {
            "_model_module": "@jupyter-widgets/base",
            "_model_module_version": "1.2.0",
            "_model_name": "LayoutModel",
            "_view_count": null,
            "_view_module": "@jupyter-widgets/base",
            "_view_module_version": "1.2.0",
            "_view_name": "LayoutView",
            "align_content": null,
            "align_items": null,
            "align_self": null,
            "border": null,
            "bottom": null,
            "display": null,
            "flex": null,
            "flex_flow": null,
            "grid_area": null,
            "grid_auto_columns": null,
            "grid_auto_flow": null,
            "grid_auto_rows": null,
            "grid_column": null,
            "grid_gap": null,
            "grid_row": null,
            "grid_template_areas": null,
            "grid_template_columns": null,
            "grid_template_rows": null,
            "height": null,
            "justify_content": null,
            "justify_items": null,
            "left": null,
            "margin": null,
            "max_height": null,
            "max_width": null,
            "min_height": null,
            "min_width": null,
            "object_fit": null,
            "object_position": null,
            "order": null,
            "overflow": null,
            "overflow_x": null,
            "overflow_y": null,
            "padding": null,
            "right": null,
            "top": null,
            "visibility": null,
            "width": null
          }
        },
        "99ce57fed0194264a3b951d1bb3c95df": {
          "model_module": "@jupyter-widgets/controls",
          "model_name": "DescriptionStyleModel",
          "model_module_version": "1.5.0",
          "state": {
            "_model_module": "@jupyter-widgets/controls",
            "_model_module_version": "1.5.0",
            "_model_name": "DescriptionStyleModel",
            "_view_count": null,
            "_view_module": "@jupyter-widgets/base",
            "_view_module_version": "1.2.0",
            "_view_name": "StyleView",
            "description_width": ""
          }
        },
        "3625eb14f11646be99cdc98189efad30": {
          "model_module": "@jupyter-widgets/base",
          "model_name": "LayoutModel",
          "model_module_version": "1.2.0",
          "state": {
            "_model_module": "@jupyter-widgets/base",
            "_model_module_version": "1.2.0",
            "_model_name": "LayoutModel",
            "_view_count": null,
            "_view_module": "@jupyter-widgets/base",
            "_view_module_version": "1.2.0",
            "_view_name": "LayoutView",
            "align_content": null,
            "align_items": null,
            "align_self": null,
            "border": null,
            "bottom": null,
            "display": null,
            "flex": null,
            "flex_flow": null,
            "grid_area": null,
            "grid_auto_columns": null,
            "grid_auto_flow": null,
            "grid_auto_rows": null,
            "grid_column": null,
            "grid_gap": null,
            "grid_row": null,
            "grid_template_areas": null,
            "grid_template_columns": null,
            "grid_template_rows": null,
            "height": null,
            "justify_content": null,
            "justify_items": null,
            "left": null,
            "margin": null,
            "max_height": null,
            "max_width": null,
            "min_height": null,
            "min_width": null,
            "object_fit": null,
            "object_position": null,
            "order": null,
            "overflow": null,
            "overflow_x": null,
            "overflow_y": null,
            "padding": null,
            "right": null,
            "top": null,
            "visibility": null,
            "width": null
          }
        },
        "218b36707d324a419be66fab8d547aed": {
          "model_module": "@jupyter-widgets/controls",
          "model_name": "ProgressStyleModel",
          "model_module_version": "1.5.0",
          "state": {
            "_model_module": "@jupyter-widgets/controls",
            "_model_module_version": "1.5.0",
            "_model_name": "ProgressStyleModel",
            "_view_count": null,
            "_view_module": "@jupyter-widgets/base",
            "_view_module_version": "1.2.0",
            "_view_name": "StyleView",
            "bar_color": null,
            "description_width": ""
          }
        },
        "4430c67c9c92475281d239dceb49db4b": {
          "model_module": "@jupyter-widgets/base",
          "model_name": "LayoutModel",
          "model_module_version": "1.2.0",
          "state": {
            "_model_module": "@jupyter-widgets/base",
            "_model_module_version": "1.2.0",
            "_model_name": "LayoutModel",
            "_view_count": null,
            "_view_module": "@jupyter-widgets/base",
            "_view_module_version": "1.2.0",
            "_view_name": "LayoutView",
            "align_content": null,
            "align_items": null,
            "align_self": null,
            "border": null,
            "bottom": null,
            "display": null,
            "flex": null,
            "flex_flow": null,
            "grid_area": null,
            "grid_auto_columns": null,
            "grid_auto_flow": null,
            "grid_auto_rows": null,
            "grid_column": null,
            "grid_gap": null,
            "grid_row": null,
            "grid_template_areas": null,
            "grid_template_columns": null,
            "grid_template_rows": null,
            "height": null,
            "justify_content": null,
            "justify_items": null,
            "left": null,
            "margin": null,
            "max_height": null,
            "max_width": null,
            "min_height": null,
            "min_width": null,
            "object_fit": null,
            "object_position": null,
            "order": null,
            "overflow": null,
            "overflow_x": null,
            "overflow_y": null,
            "padding": null,
            "right": null,
            "top": null,
            "visibility": null,
            "width": null
          }
        },
        "51cb61dcd33d4ae3ba91f33cbc471e7b": {
          "model_module": "@jupyter-widgets/controls",
          "model_name": "DescriptionStyleModel",
          "model_module_version": "1.5.0",
          "state": {
            "_model_module": "@jupyter-widgets/controls",
            "_model_module_version": "1.5.0",
            "_model_name": "DescriptionStyleModel",
            "_view_count": null,
            "_view_module": "@jupyter-widgets/base",
            "_view_module_version": "1.2.0",
            "_view_name": "StyleView",
            "description_width": ""
          }
        }
      }
    }
  },
  "nbformat": 4,
  "nbformat_minor": 0
}